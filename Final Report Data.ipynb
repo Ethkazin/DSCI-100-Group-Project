{
 "cells": [
  {
   "cell_type": "code",
   "execution_count": 2,
   "id": "51a2d1ec-59a9-42c1-8715-056190b2614c",
   "metadata": {
    "editable": true,
    "slideshow": {
     "slide_type": ""
    },
    "tags": []
   },
   "outputs": [
    {
     "name": "stderr",
     "output_type": "stream",
     "text": [
      "Warning message:\n",
      "“package ‘ggplot2’ was built under R version 4.3.2”\n",
      "── \u001b[1mAttaching core tidyverse packages\u001b[22m ──────────────────────── tidyverse 2.0.0 ──\n",
      "\u001b[32m✔\u001b[39m \u001b[34mdplyr    \u001b[39m 1.1.3     \u001b[32m✔\u001b[39m \u001b[34mreadr    \u001b[39m 2.1.4\n",
      "\u001b[32m✔\u001b[39m \u001b[34mforcats  \u001b[39m 1.0.0     \u001b[32m✔\u001b[39m \u001b[34mstringr  \u001b[39m 1.5.0\n",
      "\u001b[32m✔\u001b[39m \u001b[34mggplot2  \u001b[39m 3.5.0     \u001b[32m✔\u001b[39m \u001b[34mtibble   \u001b[39m 3.2.1\n",
      "\u001b[32m✔\u001b[39m \u001b[34mlubridate\u001b[39m 1.9.2     \u001b[32m✔\u001b[39m \u001b[34mtidyr    \u001b[39m 1.3.0\n",
      "\u001b[32m✔\u001b[39m \u001b[34mpurrr    \u001b[39m 1.0.2     \n",
      "── \u001b[1mConflicts\u001b[22m ────────────────────────────────────────── tidyverse_conflicts() ──\n",
      "\u001b[31m✖\u001b[39m \u001b[34mdplyr\u001b[39m::\u001b[32mfilter()\u001b[39m masks \u001b[34mstats\u001b[39m::filter()\n",
      "\u001b[31m✖\u001b[39m \u001b[34mdplyr\u001b[39m::\u001b[32mlag()\u001b[39m    masks \u001b[34mstats\u001b[39m::lag()\n",
      "\u001b[36mℹ\u001b[39m Use the conflicted package (\u001b[3m\u001b[34m<http://conflicted.r-lib.org/>\u001b[39m\u001b[23m) to force all conflicts to become errors\n",
      "── \u001b[1mAttaching packages\u001b[22m ────────────────────────────────────── tidymodels 1.1.1 ──\n",
      "\n",
      "\u001b[32m✔\u001b[39m \u001b[34mbroom       \u001b[39m 1.0.5     \u001b[32m✔\u001b[39m \u001b[34mrsample     \u001b[39m 1.2.0\n",
      "\u001b[32m✔\u001b[39m \u001b[34mdials       \u001b[39m 1.2.0     \u001b[32m✔\u001b[39m \u001b[34mtune        \u001b[39m 1.1.2\n",
      "\u001b[32m✔\u001b[39m \u001b[34minfer       \u001b[39m 1.0.5     \u001b[32m✔\u001b[39m \u001b[34mworkflows   \u001b[39m 1.1.3\n",
      "\u001b[32m✔\u001b[39m \u001b[34mmodeldata   \u001b[39m 1.2.0     \u001b[32m✔\u001b[39m \u001b[34mworkflowsets\u001b[39m 1.0.1\n",
      "\u001b[32m✔\u001b[39m \u001b[34mparsnip     \u001b[39m 1.1.1     \u001b[32m✔\u001b[39m \u001b[34myardstick   \u001b[39m 1.2.0\n",
      "\u001b[32m✔\u001b[39m \u001b[34mrecipes     \u001b[39m 1.0.8     \n",
      "\n",
      "── \u001b[1mConflicts\u001b[22m ───────────────────────────────────────── tidymodels_conflicts() ──\n",
      "\u001b[31m✖\u001b[39m \u001b[34mscales\u001b[39m::\u001b[32mdiscard()\u001b[39m masks \u001b[34mpurrr\u001b[39m::discard()\n",
      "\u001b[31m✖\u001b[39m \u001b[34mdplyr\u001b[39m::\u001b[32mfilter()\u001b[39m   masks \u001b[34mstats\u001b[39m::filter()\n",
      "\u001b[31m✖\u001b[39m \u001b[34mrecipes\u001b[39m::\u001b[32mfixed()\u001b[39m  masks \u001b[34mstringr\u001b[39m::fixed()\n",
      "\u001b[31m✖\u001b[39m \u001b[34mdplyr\u001b[39m::\u001b[32mlag()\u001b[39m      masks \u001b[34mstats\u001b[39m::lag()\n",
      "\u001b[31m✖\u001b[39m \u001b[34myardstick\u001b[39m::\u001b[32mspec()\u001b[39m masks \u001b[34mreadr\u001b[39m::spec()\n",
      "\u001b[31m✖\u001b[39m \u001b[34mrecipes\u001b[39m::\u001b[32mstep()\u001b[39m   masks \u001b[34mstats\u001b[39m::step()\n",
      "\u001b[34m•\u001b[39m Dig deeper into tidy modeling with R at \u001b[32mhttps://www.tmwr.org\u001b[39m\n",
      "\n",
      "\n",
      "Attaching package: ‘janitor’\n",
      "\n",
      "\n",
      "The following objects are masked from ‘package:stats’:\n",
      "\n",
      "    chisq.test, fisher.test\n",
      "\n",
      "\n"
     ]
    }
   ],
   "source": [
    "library(tidyverse)\n",
    "library(repr)\n",
    "library(tidymodels)\n",
    "library(janitor)\n",
    "options(repr.matrix.max.rows = 6)"
   ]
  },
  {
   "cell_type": "code",
   "execution_count": 3,
   "id": "e3fa57d2-820f-4b4b-91df-9c633154139a",
   "metadata": {},
   "outputs": [
    {
     "name": "stderr",
     "output_type": "stream",
     "text": [
      "\u001b[1mRows: \u001b[22m\u001b[34m4001\u001b[39m \u001b[1mColumns: \u001b[22m\u001b[34m9\u001b[39m\n",
      "\u001b[36m──\u001b[39m \u001b[1mColumn specification\u001b[22m \u001b[36m────────────────────────────────────────────────────────\u001b[39m\n",
      "\u001b[1mDelimiter:\u001b[22m \",\"\n",
      "\u001b[31mchr\u001b[39m (2): Acidity, Quality\n",
      "\u001b[32mdbl\u001b[39m (7): A_id, Size, Weight, Sweetness, Crunchiness, Juiciness, Ripeness\n",
      "\n",
      "\u001b[36mℹ\u001b[39m Use `spec()` to retrieve the full column specification for this data.\n",
      "\u001b[36mℹ\u001b[39m Specify the column types or set `show_col_types = FALSE` to quiet this message.\n"
     ]
    },
    {
     "data": {
      "text/html": [
       "<table class=\"dataframe\">\n",
       "<caption>A tibble: 4000 × 9</caption>\n",
       "<thead>\n",
       "\t<tr><th scope=col>A_id</th><th scope=col>Size</th><th scope=col>Weight</th><th scope=col>Sweetness</th><th scope=col>Crunchiness</th><th scope=col>Juiciness</th><th scope=col>Ripeness</th><th scope=col>Acidity</th><th scope=col>Quality</th></tr>\n",
       "\t<tr><th scope=col>&lt;dbl&gt;</th><th scope=col>&lt;dbl&gt;</th><th scope=col>&lt;dbl&gt;</th><th scope=col>&lt;dbl&gt;</th><th scope=col>&lt;dbl&gt;</th><th scope=col>&lt;dbl&gt;</th><th scope=col>&lt;dbl&gt;</th><th scope=col>&lt;chr&gt;</th><th scope=col>&lt;chr&gt;</th></tr>\n",
       "</thead>\n",
       "<tbody>\n",
       "\t<tr><td>0</td><td>-3.9700485</td><td>-2.512336</td><td> 5.346330</td><td>-1.0120087</td><td>1.8449004</td><td> 0.32983980</td><td>-0.491590483</td><td>good</td></tr>\n",
       "\t<tr><td>1</td><td>-1.1952172</td><td>-2.839257</td><td> 3.664059</td><td> 1.5882323</td><td>0.8532858</td><td> 0.86753008</td><td>-0.722809367</td><td>good</td></tr>\n",
       "\t<tr><td>2</td><td>-0.2920239</td><td>-1.351282</td><td>-1.738429</td><td>-0.3426159</td><td>2.8386355</td><td>-0.03803333</td><td>2.621636473 </td><td>bad </td></tr>\n",
       "\t<tr><td>⋮</td><td>⋮</td><td>⋮</td><td>⋮</td><td>⋮</td><td>⋮</td><td>⋮</td><td>⋮</td><td>⋮</td></tr>\n",
       "\t<tr><td>3997</td><td>-2.6345153</td><td>-2.138247</td><td>-2.4404613</td><td> 0.6572229</td><td>2.199709</td><td> 4.7638592</td><td>-1.334611391</td><td>bad </td></tr>\n",
       "\t<tr><td>3998</td><td>-4.0080037</td><td>-1.779337</td><td> 2.3663970</td><td>-0.2003294</td><td>2.161435</td><td> 0.2144884</td><td>-2.229719806</td><td>good</td></tr>\n",
       "\t<tr><td>3999</td><td> 0.2785397</td><td>-1.715505</td><td> 0.1212173</td><td>-1.1540748</td><td>1.266677</td><td>-0.7765715</td><td>1.599796456 </td><td>good</td></tr>\n",
       "</tbody>\n",
       "</table>\n"
      ],
      "text/latex": [
       "A tibble: 4000 × 9\n",
       "\\begin{tabular}{lllllllll}\n",
       " A\\_id & Size & Weight & Sweetness & Crunchiness & Juiciness & Ripeness & Acidity & Quality\\\\\n",
       " <dbl> & <dbl> & <dbl> & <dbl> & <dbl> & <dbl> & <dbl> & <chr> & <chr>\\\\\n",
       "\\hline\n",
       "\t 0 & -3.9700485 & -2.512336 &  5.346330 & -1.0120087 & 1.8449004 &  0.32983980 & -0.491590483 & good\\\\\n",
       "\t 1 & -1.1952172 & -2.839257 &  3.664059 &  1.5882323 & 0.8532858 &  0.86753008 & -0.722809367 & good\\\\\n",
       "\t 2 & -0.2920239 & -1.351282 & -1.738429 & -0.3426159 & 2.8386355 & -0.03803333 & 2.621636473  & bad \\\\\n",
       "\t ⋮ & ⋮ & ⋮ & ⋮ & ⋮ & ⋮ & ⋮ & ⋮ & ⋮\\\\\n",
       "\t 3997 & -2.6345153 & -2.138247 & -2.4404613 &  0.6572229 & 2.199709 &  4.7638592 & -1.334611391 & bad \\\\\n",
       "\t 3998 & -4.0080037 & -1.779337 &  2.3663970 & -0.2003294 & 2.161435 &  0.2144884 & -2.229719806 & good\\\\\n",
       "\t 3999 &  0.2785397 & -1.715505 &  0.1212173 & -1.1540748 & 1.266677 & -0.7765715 & 1.599796456  & good\\\\\n",
       "\\end{tabular}\n"
      ],
      "text/markdown": [
       "\n",
       "A tibble: 4000 × 9\n",
       "\n",
       "| A_id &lt;dbl&gt; | Size &lt;dbl&gt; | Weight &lt;dbl&gt; | Sweetness &lt;dbl&gt; | Crunchiness &lt;dbl&gt; | Juiciness &lt;dbl&gt; | Ripeness &lt;dbl&gt; | Acidity &lt;chr&gt; | Quality &lt;chr&gt; |\n",
       "|---|---|---|---|---|---|---|---|---|\n",
       "| 0 | -3.9700485 | -2.512336 |  5.346330 | -1.0120087 | 1.8449004 |  0.32983980 | -0.491590483 | good |\n",
       "| 1 | -1.1952172 | -2.839257 |  3.664059 |  1.5882323 | 0.8532858 |  0.86753008 | -0.722809367 | good |\n",
       "| 2 | -0.2920239 | -1.351282 | -1.738429 | -0.3426159 | 2.8386355 | -0.03803333 | 2.621636473  | bad  |\n",
       "| ⋮ | ⋮ | ⋮ | ⋮ | ⋮ | ⋮ | ⋮ | ⋮ | ⋮ |\n",
       "| 3997 | -2.6345153 | -2.138247 | -2.4404613 |  0.6572229 | 2.199709 |  4.7638592 | -1.334611391 | bad  |\n",
       "| 3998 | -4.0080037 | -1.779337 |  2.3663970 | -0.2003294 | 2.161435 |  0.2144884 | -2.229719806 | good |\n",
       "| 3999 |  0.2785397 | -1.715505 |  0.1212173 | -1.1540748 | 1.266677 | -0.7765715 | 1.599796456  | good |\n",
       "\n"
      ],
      "text/plain": [
       "     A_id Size       Weight    Sweetness  Crunchiness Juiciness Ripeness   \n",
       "1    0    -3.9700485 -2.512336  5.346330  -1.0120087  1.8449004  0.32983980\n",
       "2    1    -1.1952172 -2.839257  3.664059   1.5882323  0.8532858  0.86753008\n",
       "3    2    -0.2920239 -1.351282 -1.738429  -0.3426159  2.8386355 -0.03803333\n",
       "⋮    ⋮    ⋮          ⋮         ⋮          ⋮           ⋮         ⋮          \n",
       "3998 3997 -2.6345153 -2.138247 -2.4404613  0.6572229  2.199709   4.7638592 \n",
       "3999 3998 -4.0080037 -1.779337  2.3663970 -0.2003294  2.161435   0.2144884 \n",
       "4000 3999  0.2785397 -1.715505  0.1212173 -1.1540748  1.266677  -0.7765715 \n",
       "     Acidity      Quality\n",
       "1    -0.491590483 good   \n",
       "2    -0.722809367 good   \n",
       "3    2.621636473  bad    \n",
       "⋮    ⋮            ⋮      \n",
       "3998 -1.334611391 bad    \n",
       "3999 -2.229719806 good   \n",
       "4000 1.599796456  good   "
      ]
     },
     "metadata": {},
     "output_type": "display_data"
    }
   ],
   "source": [
    "#Because this dataframe involves comma separated values, we used the appropriate read function.\n",
    "apple <- read_csv(\"data/apple_quality.csv\") |>\n",
    "    head(-1) #This function removes the last row of the dataframe which included NA values and text crediting the author.\n",
    "apple"
   ]
  },
  {
   "cell_type": "code",
   "execution_count": 4,
   "id": "0416c240-f9e0-4a59-8100-2bbcf4f40736",
   "metadata": {},
   "outputs": [
    {
     "data": {
      "text/html": [
       "<table class=\"dataframe\">\n",
       "<caption>A tibble: 4000 × 9</caption>\n",
       "<thead>\n",
       "\t<tr><th scope=col>a_id</th><th scope=col>size</th><th scope=col>weight</th><th scope=col>sweetness</th><th scope=col>crunchiness</th><th scope=col>juiciness</th><th scope=col>ripeness</th><th scope=col>acidity</th><th scope=col>quality</th></tr>\n",
       "\t<tr><th scope=col>&lt;dbl&gt;</th><th scope=col>&lt;dbl&gt;</th><th scope=col>&lt;dbl&gt;</th><th scope=col>&lt;dbl&gt;</th><th scope=col>&lt;dbl&gt;</th><th scope=col>&lt;dbl&gt;</th><th scope=col>&lt;dbl&gt;</th><th scope=col>&lt;dbl&gt;</th><th scope=col>&lt;chr&gt;</th></tr>\n",
       "</thead>\n",
       "<tbody>\n",
       "\t<tr><td>0</td><td>-3.9700485</td><td>-2.512336</td><td> 5.346330</td><td>-1.0120087</td><td>1.8449004</td><td> 0.32983980</td><td>-0.4915905</td><td>good</td></tr>\n",
       "\t<tr><td>1</td><td>-1.1952172</td><td>-2.839257</td><td> 3.664059</td><td> 1.5882323</td><td>0.8532858</td><td> 0.86753008</td><td>-0.7228094</td><td>good</td></tr>\n",
       "\t<tr><td>2</td><td>-0.2920239</td><td>-1.351282</td><td>-1.738429</td><td>-0.3426159</td><td>2.8386355</td><td>-0.03803333</td><td> 2.6216365</td><td>bad </td></tr>\n",
       "\t<tr><td>⋮</td><td>⋮</td><td>⋮</td><td>⋮</td><td>⋮</td><td>⋮</td><td>⋮</td><td>⋮</td><td>⋮</td></tr>\n",
       "\t<tr><td>3997</td><td>-2.6345153</td><td>-2.138247</td><td>-2.4404613</td><td> 0.6572229</td><td>2.199709</td><td> 4.7638592</td><td>-1.334611</td><td>bad </td></tr>\n",
       "\t<tr><td>3998</td><td>-4.0080037</td><td>-1.779337</td><td> 2.3663970</td><td>-0.2003294</td><td>2.161435</td><td> 0.2144884</td><td>-2.229720</td><td>good</td></tr>\n",
       "\t<tr><td>3999</td><td> 0.2785397</td><td>-1.715505</td><td> 0.1212173</td><td>-1.1540748</td><td>1.266677</td><td>-0.7765715</td><td> 1.599796</td><td>good</td></tr>\n",
       "</tbody>\n",
       "</table>\n"
      ],
      "text/latex": [
       "A tibble: 4000 × 9\n",
       "\\begin{tabular}{lllllllll}\n",
       " a\\_id & size & weight & sweetness & crunchiness & juiciness & ripeness & acidity & quality\\\\\n",
       " <dbl> & <dbl> & <dbl> & <dbl> & <dbl> & <dbl> & <dbl> & <dbl> & <chr>\\\\\n",
       "\\hline\n",
       "\t 0 & -3.9700485 & -2.512336 &  5.346330 & -1.0120087 & 1.8449004 &  0.32983980 & -0.4915905 & good\\\\\n",
       "\t 1 & -1.1952172 & -2.839257 &  3.664059 &  1.5882323 & 0.8532858 &  0.86753008 & -0.7228094 & good\\\\\n",
       "\t 2 & -0.2920239 & -1.351282 & -1.738429 & -0.3426159 & 2.8386355 & -0.03803333 &  2.6216365 & bad \\\\\n",
       "\t ⋮ & ⋮ & ⋮ & ⋮ & ⋮ & ⋮ & ⋮ & ⋮ & ⋮\\\\\n",
       "\t 3997 & -2.6345153 & -2.138247 & -2.4404613 &  0.6572229 & 2.199709 &  4.7638592 & -1.334611 & bad \\\\\n",
       "\t 3998 & -4.0080037 & -1.779337 &  2.3663970 & -0.2003294 & 2.161435 &  0.2144884 & -2.229720 & good\\\\\n",
       "\t 3999 &  0.2785397 & -1.715505 &  0.1212173 & -1.1540748 & 1.266677 & -0.7765715 &  1.599796 & good\\\\\n",
       "\\end{tabular}\n"
      ],
      "text/markdown": [
       "\n",
       "A tibble: 4000 × 9\n",
       "\n",
       "| a_id &lt;dbl&gt; | size &lt;dbl&gt; | weight &lt;dbl&gt; | sweetness &lt;dbl&gt; | crunchiness &lt;dbl&gt; | juiciness &lt;dbl&gt; | ripeness &lt;dbl&gt; | acidity &lt;dbl&gt; | quality &lt;chr&gt; |\n",
       "|---|---|---|---|---|---|---|---|---|\n",
       "| 0 | -3.9700485 | -2.512336 |  5.346330 | -1.0120087 | 1.8449004 |  0.32983980 | -0.4915905 | good |\n",
       "| 1 | -1.1952172 | -2.839257 |  3.664059 |  1.5882323 | 0.8532858 |  0.86753008 | -0.7228094 | good |\n",
       "| 2 | -0.2920239 | -1.351282 | -1.738429 | -0.3426159 | 2.8386355 | -0.03803333 |  2.6216365 | bad  |\n",
       "| ⋮ | ⋮ | ⋮ | ⋮ | ⋮ | ⋮ | ⋮ | ⋮ | ⋮ |\n",
       "| 3997 | -2.6345153 | -2.138247 | -2.4404613 |  0.6572229 | 2.199709 |  4.7638592 | -1.334611 | bad  |\n",
       "| 3998 | -4.0080037 | -1.779337 |  2.3663970 | -0.2003294 | 2.161435 |  0.2144884 | -2.229720 | good |\n",
       "| 3999 |  0.2785397 | -1.715505 |  0.1212173 | -1.1540748 | 1.266677 | -0.7765715 |  1.599796 | good |\n",
       "\n"
      ],
      "text/plain": [
       "     a_id size       weight    sweetness  crunchiness juiciness ripeness   \n",
       "1    0    -3.9700485 -2.512336  5.346330  -1.0120087  1.8449004  0.32983980\n",
       "2    1    -1.1952172 -2.839257  3.664059   1.5882323  0.8532858  0.86753008\n",
       "3    2    -0.2920239 -1.351282 -1.738429  -0.3426159  2.8386355 -0.03803333\n",
       "⋮    ⋮    ⋮          ⋮         ⋮          ⋮           ⋮         ⋮          \n",
       "3998 3997 -2.6345153 -2.138247 -2.4404613  0.6572229  2.199709   4.7638592 \n",
       "3999 3998 -4.0080037 -1.779337  2.3663970 -0.2003294  2.161435   0.2144884 \n",
       "4000 3999  0.2785397 -1.715505  0.1212173 -1.1540748  1.266677  -0.7765715 \n",
       "     acidity    quality\n",
       "1    -0.4915905 good   \n",
       "2    -0.7228094 good   \n",
       "3     2.6216365 bad    \n",
       "⋮    ⋮          ⋮      \n",
       "3998 -1.334611  bad    \n",
       "3999 -2.229720  good   \n",
       "4000  1.599796  good   "
      ]
     },
     "metadata": {},
     "output_type": "display_data"
    }
   ],
   "source": [
    "apple_manipulated <- apple |>\n",
    "    clean_names() |>\n",
    "    mutate(acidity = as.numeric(acidity))\n",
    "apple_manipulated"
   ]
  },
  {
   "cell_type": "code",
   "execution_count": 5,
   "id": "70ad5b5a-d007-47c6-b70b-92fc1daf69cb",
   "metadata": {},
   "outputs": [
    {
     "data": {
      "text/html": [
       "<table class=\"dataframe\">\n",
       "<caption>A tibble: 4000 × 3</caption>\n",
       "<thead>\n",
       "\t<tr><th scope=col>ripeness</th><th scope=col>acidity</th><th scope=col>quality</th></tr>\n",
       "\t<tr><th scope=col>&lt;dbl&gt;</th><th scope=col>&lt;dbl&gt;</th><th scope=col>&lt;chr&gt;</th></tr>\n",
       "</thead>\n",
       "<tbody>\n",
       "\t<tr><td> 0.32983980</td><td>-0.4915905</td><td>good</td></tr>\n",
       "\t<tr><td> 0.86753008</td><td>-0.7228094</td><td>good</td></tr>\n",
       "\t<tr><td>-0.03803333</td><td> 2.6216365</td><td>bad </td></tr>\n",
       "\t<tr><td>⋮</td><td>⋮</td><td>⋮</td></tr>\n",
       "\t<tr><td> 4.7638592</td><td>-1.334611</td><td>bad </td></tr>\n",
       "\t<tr><td> 0.2144884</td><td>-2.229720</td><td>good</td></tr>\n",
       "\t<tr><td>-0.7765715</td><td> 1.599796</td><td>good</td></tr>\n",
       "</tbody>\n",
       "</table>\n"
      ],
      "text/latex": [
       "A tibble: 4000 × 3\n",
       "\\begin{tabular}{lll}\n",
       " ripeness & acidity & quality\\\\\n",
       " <dbl> & <dbl> & <chr>\\\\\n",
       "\\hline\n",
       "\t  0.32983980 & -0.4915905 & good\\\\\n",
       "\t  0.86753008 & -0.7228094 & good\\\\\n",
       "\t -0.03803333 &  2.6216365 & bad \\\\\n",
       "\t ⋮ & ⋮ & ⋮\\\\\n",
       "\t  4.7638592 & -1.334611 & bad \\\\\n",
       "\t  0.2144884 & -2.229720 & good\\\\\n",
       "\t -0.7765715 &  1.599796 & good\\\\\n",
       "\\end{tabular}\n"
      ],
      "text/markdown": [
       "\n",
       "A tibble: 4000 × 3\n",
       "\n",
       "| ripeness &lt;dbl&gt; | acidity &lt;dbl&gt; | quality &lt;chr&gt; |\n",
       "|---|---|---|\n",
       "|  0.32983980 | -0.4915905 | good |\n",
       "|  0.86753008 | -0.7228094 | good |\n",
       "| -0.03803333 |  2.6216365 | bad  |\n",
       "| ⋮ | ⋮ | ⋮ |\n",
       "|  4.7638592 | -1.334611 | bad  |\n",
       "|  0.2144884 | -2.229720 | good |\n",
       "| -0.7765715 |  1.599796 | good |\n",
       "\n"
      ],
      "text/plain": [
       "     ripeness    acidity    quality\n",
       "1     0.32983980 -0.4915905 good   \n",
       "2     0.86753008 -0.7228094 good   \n",
       "3    -0.03803333  2.6216365 bad    \n",
       "⋮    ⋮           ⋮          ⋮      \n",
       "3998  4.7638592  -1.334611  bad    \n",
       "3999  0.2144884  -2.229720  good   \n",
       "4000 -0.7765715   1.599796  good   "
      ]
     },
     "metadata": {},
     "output_type": "display_data"
    }
   ],
   "source": [
    "set.seed(4321)\n",
    "#We selected the values we would use for our data analysis, which only included Ripeness, Acidity, and Quality.\n",
    "#A random sample of 100 was taken because the data set was so large.\n",
    "apple_select <- apple_manipulated |>\n",
    "    select(ripeness, acidity, quality)\n",
    "apple_select"
   ]
  },
  {
   "cell_type": "code",
   "execution_count": 6,
   "id": "00225830-0cc8-4f32-b0e1-90119afb5bda",
   "metadata": {},
   "outputs": [],
   "source": [
    "set.seed(4321)\n",
    "\n",
    "apple_split <- initial_split(apple_select, prop = 0.75, strata = quality)\n",
    "apple_train <- training(apple_split)\n",
    "apple_test <- testing(apple_split)\n",
    "\n",
    "apple_recipe <- recipe(quality ~ ripeness + acidity, data = apple_train) |>\n",
    " step_scale(all_predictors())|>\n",
    " step_center(all_predictors())\n",
    "\n",
    "apple_spec <- nearest_neighbor(weight_func = \"rectangular\", neighbors = tune()) |>\n",
    "         set_engine(\"kknn\") |>\n",
    "         set_mode(\"classification\")\n",
    "\n"
   ]
  },
  {
   "cell_type": "code",
   "execution_count": 7,
   "id": "09e74bb6-2029-450d-b7e1-93dd42f5b504",
   "metadata": {},
   "outputs": [
    {
     "data": {
      "text/plain": [
       "══ Workflow ════════════════════════════════════════════════════════════════════\n",
       "\u001b[3mPreprocessor:\u001b[23m Recipe\n",
       "\u001b[3mModel:\u001b[23m nearest_neighbor()\n",
       "\n",
       "── Preprocessor ────────────────────────────────────────────────────────────────\n",
       "2 Recipe Steps\n",
       "\n",
       "• step_scale()\n",
       "• step_center()\n",
       "\n",
       "── Model ───────────────────────────────────────────────────────────────────────\n",
       "K-Nearest Neighbor Model Specification (classification)\n",
       "\n",
       "Main Arguments:\n",
       "  neighbors = tune()\n",
       "  weight_func = rectangular\n",
       "\n",
       "Computational engine: kknn \n"
      ]
     },
     "metadata": {},
     "output_type": "display_data"
    },
    {
     "data": {
      "text/html": [
       "<table class=\"dataframe\">\n",
       "<caption>A tibble: 40 × 7</caption>\n",
       "<thead>\n",
       "\t<tr><th scope=col>neighbors</th><th scope=col>.metric</th><th scope=col>.estimator</th><th scope=col>mean</th><th scope=col>n</th><th scope=col>std_err</th><th scope=col>.config</th></tr>\n",
       "\t<tr><th scope=col>&lt;int&gt;</th><th scope=col>&lt;chr&gt;</th><th scope=col>&lt;chr&gt;</th><th scope=col>&lt;dbl&gt;</th><th scope=col>&lt;int&gt;</th><th scope=col>&lt;dbl&gt;</th><th scope=col>&lt;chr&gt;</th></tr>\n",
       "</thead>\n",
       "<tbody>\n",
       "\t<tr><td>1</td><td>accuracy</td><td>binary</td><td>0.5409962</td><td>5</td><td>0.005382947</td><td>Preprocessor1_Model01</td></tr>\n",
       "\t<tr><td>1</td><td>roc_auc </td><td>binary</td><td>0.5409792</td><td>5</td><td>0.005362711</td><td>Preprocessor1_Model01</td></tr>\n",
       "\t<tr><td>2</td><td>accuracy</td><td>binary</td><td>0.5409962</td><td>5</td><td>0.005382947</td><td>Preprocessor1_Model02</td></tr>\n",
       "\t<tr><td>⋮</td><td>⋮</td><td>⋮</td><td>⋮</td><td>⋮</td><td>⋮</td><td>⋮</td></tr>\n",
       "\t<tr><td>19</td><td>roc_auc </td><td>binary</td><td>0.6471332</td><td>5</td><td>0.01349593</td><td>Preprocessor1_Model19</td></tr>\n",
       "\t<tr><td>20</td><td>accuracy</td><td>binary</td><td>0.5999963</td><td>5</td><td>0.01321200</td><td>Preprocessor1_Model20</td></tr>\n",
       "\t<tr><td>20</td><td>roc_auc </td><td>binary</td><td>0.6494338</td><td>5</td><td>0.01239439</td><td>Preprocessor1_Model20</td></tr>\n",
       "</tbody>\n",
       "</table>\n"
      ],
      "text/latex": [
       "A tibble: 40 × 7\n",
       "\\begin{tabular}{lllllll}\n",
       " neighbors & .metric & .estimator & mean & n & std\\_err & .config\\\\\n",
       " <int> & <chr> & <chr> & <dbl> & <int> & <dbl> & <chr>\\\\\n",
       "\\hline\n",
       "\t 1 & accuracy & binary & 0.5409962 & 5 & 0.005382947 & Preprocessor1\\_Model01\\\\\n",
       "\t 1 & roc\\_auc  & binary & 0.5409792 & 5 & 0.005362711 & Preprocessor1\\_Model01\\\\\n",
       "\t 2 & accuracy & binary & 0.5409962 & 5 & 0.005382947 & Preprocessor1\\_Model02\\\\\n",
       "\t ⋮ & ⋮ & ⋮ & ⋮ & ⋮ & ⋮ & ⋮\\\\\n",
       "\t 19 & roc\\_auc  & binary & 0.6471332 & 5 & 0.01349593 & Preprocessor1\\_Model19\\\\\n",
       "\t 20 & accuracy & binary & 0.5999963 & 5 & 0.01321200 & Preprocessor1\\_Model20\\\\\n",
       "\t 20 & roc\\_auc  & binary & 0.6494338 & 5 & 0.01239439 & Preprocessor1\\_Model20\\\\\n",
       "\\end{tabular}\n"
      ],
      "text/markdown": [
       "\n",
       "A tibble: 40 × 7\n",
       "\n",
       "| neighbors &lt;int&gt; | .metric &lt;chr&gt; | .estimator &lt;chr&gt; | mean &lt;dbl&gt; | n &lt;int&gt; | std_err &lt;dbl&gt; | .config &lt;chr&gt; |\n",
       "|---|---|---|---|---|---|---|\n",
       "| 1 | accuracy | binary | 0.5409962 | 5 | 0.005382947 | Preprocessor1_Model01 |\n",
       "| 1 | roc_auc  | binary | 0.5409792 | 5 | 0.005362711 | Preprocessor1_Model01 |\n",
       "| 2 | accuracy | binary | 0.5409962 | 5 | 0.005382947 | Preprocessor1_Model02 |\n",
       "| ⋮ | ⋮ | ⋮ | ⋮ | ⋮ | ⋮ | ⋮ |\n",
       "| 19 | roc_auc  | binary | 0.6471332 | 5 | 0.01349593 | Preprocessor1_Model19 |\n",
       "| 20 | accuracy | binary | 0.5999963 | 5 | 0.01321200 | Preprocessor1_Model20 |\n",
       "| 20 | roc_auc  | binary | 0.6494338 | 5 | 0.01239439 | Preprocessor1_Model20 |\n",
       "\n"
      ],
      "text/plain": [
       "   neighbors .metric  .estimator mean      n std_err     .config              \n",
       "1  1         accuracy binary     0.5409962 5 0.005382947 Preprocessor1_Model01\n",
       "2  1         roc_auc  binary     0.5409792 5 0.005362711 Preprocessor1_Model01\n",
       "3  2         accuracy binary     0.5409962 5 0.005382947 Preprocessor1_Model02\n",
       "⋮  ⋮         ⋮        ⋮          ⋮         ⋮ ⋮           ⋮                    \n",
       "38 19        roc_auc  binary     0.6471332 5 0.01349593  Preprocessor1_Model19\n",
       "39 20        accuracy binary     0.5999963 5 0.01321200  Preprocessor1_Model20\n",
       "40 20        roc_auc  binary     0.6494338 5 0.01239439  Preprocessor1_Model20"
      ]
     },
     "metadata": {},
     "output_type": "display_data"
    }
   ],
   "source": [
    "apple_vfold<- vfold_cv(apple_train, v=5, strata=quality)\n",
    "\n",
    "apple_wkflw <- workflow() |>\n",
    "    add_recipe(apple_recipe) |>\n",
    "    add_model(apple_spec) \n",
    "apple_wkflw\n",
    "\n",
    "gridvals<-tibble(neighbors=seq(1,20))\n",
    "\n",
    "apple_results<- apple_wkflw |>\n",
    " tune_grid(resamples= apple_vfold, grid=gridvals) |>\n",
    " collect_metrics() \n",
    "\n",
    "apple_results\n"
   ]
  },
  {
   "cell_type": "code",
   "execution_count": null,
   "id": "af2bbf3c-736e-43b6-a44a-754b33ff0977",
   "metadata": {},
   "outputs": [],
   "source": [
    "# apple_split <- initial_split(apple_select, prop = 0.75, strata = Quality)\n",
    "# apple_train <- training(apple_split)\n",
    "# apple_test <- testing(apple_split)\n",
    "\n",
    "# apple_spec <- nearest_neighbor(weight_func = \"rectangular\", neighbors = \n",
    "\n"
   ]
  },
  {
   "cell_type": "code",
   "execution_count": null,
   "id": "95be7b1b-ccf3-4193-a992-88e9f6907bc3",
   "metadata": {},
   "outputs": [],
   "source": [
    "\n",
    "\n",
    "# # apple_split <- initial_split(apple_select, prop = 0.75, strata = Quality)\n",
    "# # apple_train <- training(apple_split)\n",
    "# # apple_test <- testing(apple_split)\n",
    "\n",
    "# # apple_recipe <- recipe(Quality ~ Ripeness + Acidity, data = apple_train) #Data is already scaled and centered, so there is no need to use step_scale.\n",
    "\n",
    "# # knn_spec <- nearest_neighbor(weight_func = \"rectangular\", neighbors = 3) |>\n",
    "# #         set_engine(\"kknn\") |>\n",
    "# #         set_mode(\"classification\")\n",
    "\n",
    "# # knn_fit <- workflow() |>\n",
    "# #     add_recipe(apple_recipe) |>\n",
    "# #     add_model(knn_spec) |>\n",
    "# #     fit(data = apple_train)\n",
    "\n",
    "# # validation_predicted <- predict(knn_fit, apple_test) |>\n",
    "# #     bind_cols(apple_test)\n",
    "\n",
    "# # set.seed(1)\n",
    "\n",
    "# # apple_vfold<- vfold_cv(apple_train, v=5, strata=Quality)\n",
    "\n",
    "# # apple_recipe<- recipe(Quality~.,data=apple_train)|>\n",
    "# #  step_scale(all_predictors())|>\n",
    "# #  step_center(all_predictors())\n",
    "\n",
    "# # knn_spec<-nearest_neighbor(weight_func=\"rectangular\", neighbors=tune())|>\n",
    "# # set_engine(\"kknn\")|>\n",
    "# # set_mode(\"classification\")\n",
    "\n",
    "# # knn_results<-workflow() |>\n",
    "# #  add_recipe(apple_recipe) |>\n",
    "# #  add_model(knn_spec) |>\n",
    "# #  tune_grid(resamples=apple_vfold, grid=10) |>\n",
    "# #  collect_metrics()\n",
    "# # knn_results\n",
    "\n",
    "\n",
    "# set.seed(1)\n",
    "# apple_split<-initial_split(selected_data, prop=0.75, strata=Quality)\n",
    "# apple_train<-training(apple_split)\n",
    "# apple_test<-testing(apple_split)\n",
    "# glimpse(apple_train)\n",
    "# #create the split\n"
   ]
  },
  {
   "cell_type": "code",
   "execution_count": null,
   "id": "9228508a-9a68-4257-976c-18be4e10023d",
   "metadata": {
    "scrolled": true
   },
   "outputs": [],
   "source": [
    "\n",
    "#In the following code, a K-nn classifier is created using the training data and cross validation with 10 folds is completed to select an optimal K value.\n",
    "\n",
    "#quality_good_data <- data |>\n",
    "#    select(Ripeness, Acidity, Quality) |>\n",
    "#    filter(Quality == \"good\", na.rm = TRUE)\n",
    "\n",
    "#quality_good_data\n",
    "\n",
    "#options(repr.plot.width = 5, repr.plot.height = 5)\n",
    "#plot_filtered_good_data <- quality_good_data  |>\n",
    "#    ggplot(aes(x= Ripeness, y = Acidity, color = Quality)) +\n",
    "#    geom_point(alpha =0.4) +\n",
    "#    labs(x = \"Ripeness\",\n",
    "#         y = \"Acidity\",\n",
    "#         color = \"Quality\")\n",
    "#plot_filtered_good_data\n",
    "\n",
    "# options(repr.plot.width = 5, repr.plot.height = 5)\n",
    "\n",
    "# quality_bad_data <- data |>\n",
    "#     select(Ripeness, Acidity, Quality) |>\n",
    "#     filter(Quality == \"bad\", na.rm = TRUE)\n",
    "\n",
    "# quality_bad_data\n",
    "# plot_filtered_bad_data <- quality_bad_data  |>\n",
    "#     ggplot(aes(x= Ripeness, y = Acidity, color = Quality)) +\n",
    "#     geom_point(alpha =0.4) +\n",
    "#     labs(x = \"Ripeness\",\n",
    "#          y = \"Acidity\",\n",
    "#          color = \"Quality\")\n",
    "# plot_filtered_bad_data"
   ]
  },
  {
   "cell_type": "code",
   "execution_count": null,
   "id": "323d9f73-ad0f-45da-b7d4-2e70aaf7cb26",
   "metadata": {},
   "outputs": [],
   "source": []
  },
  {
   "cell_type": "code",
   "execution_count": null,
   "id": "4b6f6d90-aa81-4ce2-b6ab-fc6e714181bc",
   "metadata": {},
   "outputs": [],
   "source": []
  },
  {
   "cell_type": "code",
   "execution_count": null,
   "id": "c492bc9e-023b-4fe1-a7f8-ed777c206575",
   "metadata": {},
   "outputs": [],
   "source": []
  }
 ],
 "metadata": {
  "kernelspec": {
   "display_name": "R",
   "language": "R",
   "name": "ir"
  },
  "language_info": {
   "codemirror_mode": "r",
   "file_extension": ".r",
   "mimetype": "text/x-r-source",
   "name": "R",
   "pygments_lexer": "r",
   "version": "4.3.1"
  }
 },
 "nbformat": 4,
 "nbformat_minor": 5
}
