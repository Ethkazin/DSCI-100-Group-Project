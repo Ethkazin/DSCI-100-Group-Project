{
 "cells": [
  {
   "cell_type": "code",
   "execution_count": null,
   "id": "51a2d1ec-59a9-42c1-8715-056190b2614c",
   "metadata": {
    "editable": true,
    "slideshow": {
     "slide_type": ""
    },
    "tags": []
   },
   "outputs": [],
   "source": [
    "library(tidyverse)\n",
    "library(repr)\n",
    "library(tidymodels)\n",
    "options(repr.matrix.max.rows = 6)"
   ]
  },
  {
   "cell_type": "code",
   "execution_count": null,
   "id": "e3fa57d2-820f-4b4b-91df-9c633154139a",
   "metadata": {},
   "outputs": [],
   "source": [
    "#Because this dataframe involves comma separated values, we used the appropriate read function.\n",
    "apple <- read_csv(\"data/apple_quality.csv\") |>\n",
    "    head(-1) #This function removes the last row of the dataframe which included NA values and text crediting the author.\n",
    "apple"
   ]
  },
  {
   "cell_type": "code",
   "execution_count": null,
   "id": "70ad5b5a-d007-47c6-b70b-92fc1daf69cb",
   "metadata": {},
   "outputs": [],
   "source": [
    "set.seed(4321)\n",
    "#We selected the values we would use for our data analysis, which only included Ripeness, Acidity, and Quality.\n",
    "#A random sample of 100 was taken because the data set was so large.\n",
    "apple_select <- apple |>\n",
    "    select(Ripeness, Acidity, Quality) |>\n",
    "    # sample_n(100) \n",
    "apple_select"
   ]
  },
  {
   "cell_type": "code",
   "execution_count": null,
   "id": "9228508a-9a68-4257-976c-18be4e10023d",
   "metadata": {
    "scrolled": true
   },
   "outputs": [],
   "source": [
    "\n",
    "#In the following code, a K-nn classifier is created using the training data and cross validation with 10 folds is completed to select an optimal K value.\n",
    "\n",
    "#quality_good_data <- data |>\n",
    "#    select(Ripeness, Acidity, Quality) |>\n",
    "#    filter(Quality == \"good\", na.rm = TRUE)\n",
    "\n",
    "#quality_good_data\n",
    "\n",
    "#options(repr.plot.width = 5, repr.plot.height = 5)\n",
    "#plot_filtered_good_data <- quality_good_data  |>\n",
    "#    ggplot(aes(x= Ripeness, y = Acidity, color = Quality)) +\n",
    "#    geom_point(alpha =0.4) +\n",
    "#    labs(x = \"Ripeness\",\n",
    "#         y = \"Acidity\",\n",
    "#         color = \"Quality\")\n",
    "#plot_filtered_good_data\n",
    "\n",
    "# options(repr.plot.width = 5, repr.plot.height = 5)\n",
    "\n",
    "# quality_bad_data <- data |>\n",
    "#     select(Ripeness, Acidity, Quality) |>\n",
    "#     filter(Quality == \"bad\", na.rm = TRUE)\n",
    "\n",
    "# quality_bad_data\n",
    "# plot_filtered_bad_data <- quality_bad_data  |>\n",
    "#     ggplot(aes(x= Ripeness, y = Acidity, color = Quality)) +\n",
    "#     geom_point(alpha =0.4) +\n",
    "#     labs(x = \"Ripeness\",\n",
    "#          y = \"Acidity\",\n",
    "#          color = \"Quality\")\n",
    "# plot_filtered_bad_data"
   ]
  },
  {
   "cell_type": "code",
   "execution_count": null,
   "id": "95be7b1b-ccf3-4193-a992-88e9f6907bc3",
   "metadata": {},
   "outputs": [],
   "source": [
    "# # # Commented out (for now) since we switch to linear regression\n",
    "\n",
    "# # apple_split <- initial_split(apple_select, prop = 0.75, strata = Quality)\n",
    "# # apple_train <- training(apple_split)\n",
    "# # apple_test <- testing(apple_split)\n",
    "\n",
    "# # apple_recipe <- recipe(Quality ~ Ripeness + Acidity, data = apple_train) #Data is already scaled and centered, so there is no need to use step_scale.\n",
    "\n",
    "# # knn_spec <- nearest_neighbor(weight_func = \"rectangular\", neighbors = 3) |>\n",
    "# #         set_engine(\"kknn\") |>\n",
    "# #         set_mode(\"classification\")\n",
    "\n",
    "# # knn_fit <- workflow() |>\n",
    "# #     add_recipe(apple_recipe) |>\n",
    "# #     add_model(knn_spec) |>\n",
    "# #     fit(data = apple_train)\n",
    "\n",
    "# # validation_predicted <- predict(knn_fit, apple_test) |>\n",
    "# #     bind_cols(apple_test)\n",
    "\n",
    "# # set.seed(1)\n",
    "\n",
    "# # apple_vfold<- vfold_cv(apple_train, v=5, strata=Quality)\n",
    "\n",
    "# # apple_recipe<- recipe(Quality~.,data=apple_train)|>\n",
    "# #  step_scale(all_predictors())|>\n",
    "# #  step_center(all_predictors())\n",
    "\n",
    "# # knn_spec<-nearest_neighbor(weight_func=\"rectangular\", neighbors=tune())|>\n",
    "# # set_engine(\"kknn\")|>\n",
    "# # set_mode(\"classification\")\n",
    "\n",
    "# # knn_results<-workflow() |>\n",
    "# #  add_recipe(apple_recipe) |>\n",
    "# #  add_model(knn_spec) |>\n",
    "# #  tune_grid(resamples=apple_vfold, grid=10) |>\n",
    "# #  collect_metrics()\n",
    "# # knn_results\n",
    "\n",
    "\n",
    "# set.seed(1)\n",
    "# apple_split<-initial_split(selected_data, prop=0.75, strata=Quality)\n",
    "# apple_train<-training(apple_split)\n",
    "# apple_test<-testing(apple_split)\n",
    "# glimpse(apple_train)\n",
    "# #create the split\n"
   ]
  },
  {
   "cell_type": "code",
   "execution_count": null,
   "id": "323d9f73-ad0f-45da-b7d4-2e70aaf7cb26",
   "metadata": {},
   "outputs": [],
   "source": []
  },
  {
   "cell_type": "code",
   "execution_count": null,
   "id": "4b6f6d90-aa81-4ce2-b6ab-fc6e714181bc",
   "metadata": {},
   "outputs": [],
   "source": []
  },
  {
   "cell_type": "code",
   "execution_count": null,
   "id": "c492bc9e-023b-4fe1-a7f8-ed777c206575",
   "metadata": {},
   "outputs": [],
   "source": []
  }
 ],
 "metadata": {
  "kernelspec": {
   "display_name": "R",
   "language": "R",
   "name": "ir"
  },
  "language_info": {
   "codemirror_mode": "r",
   "file_extension": ".r",
   "mimetype": "text/x-r-source",
   "name": "R",
   "pygments_lexer": "r",
   "version": "4.3.1"
  }
 },
 "nbformat": 4,
 "nbformat_minor": 5
}
