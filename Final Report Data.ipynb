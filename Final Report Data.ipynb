{
 "cells": [
  {
   "cell_type": "code",
   "execution_count": 10,
   "id": "51a2d1ec-59a9-42c1-8715-056190b2614c",
   "metadata": {
    "editable": true,
    "slideshow": {
     "slide_type": ""
    },
    "tags": []
   },
   "outputs": [
    {
     "name": "stderr",
     "output_type": "stream",
     "text": [
      "\n",
      "Attaching package: ‘janitor’\n",
      "\n",
      "\n",
      "The following objects are masked from ‘package:stats’:\n",
      "\n",
      "    chisq.test, fisher.test\n",
      "\n",
      "\n"
     ]
    }
   ],
   "source": [
    "library(tidyverse)\n",
    "library(repr)\n",
    "library(tidymodels)\n",
    "library(janitor)\n",
    "options(repr.matrix.max.rows = 6)"
   ]
  },
  {
   "cell_type": "code",
   "execution_count": 11,
   "id": "e3fa57d2-820f-4b4b-91df-9c633154139a",
   "metadata": {},
   "outputs": [
    {
     "name": "stderr",
     "output_type": "stream",
     "text": [
      "\u001b[1mRows: \u001b[22m\u001b[34m4001\u001b[39m \u001b[1mColumns: \u001b[22m\u001b[34m9\u001b[39m\n",
      "\u001b[36m──\u001b[39m \u001b[1mColumn specification\u001b[22m \u001b[36m────────────────────────────────────────────────────────\u001b[39m\n",
      "\u001b[1mDelimiter:\u001b[22m \",\"\n",
      "\u001b[31mchr\u001b[39m (2): Acidity, Quality\n",
      "\u001b[32mdbl\u001b[39m (7): A_id, Size, Weight, Sweetness, Crunchiness, Juiciness, Ripeness\n",
      "\n",
      "\u001b[36mℹ\u001b[39m Use `spec()` to retrieve the full column specification for this data.\n",
      "\u001b[36mℹ\u001b[39m Specify the column types or set `show_col_types = FALSE` to quiet this message.\n"
     ]
    },
    {
     "data": {
      "text/html": [
       "<table class=\"dataframe\">\n",
       "<caption>A tibble: 4000 × 9</caption>\n",
       "<thead>\n",
       "\t<tr><th scope=col>A_id</th><th scope=col>Size</th><th scope=col>Weight</th><th scope=col>Sweetness</th><th scope=col>Crunchiness</th><th scope=col>Juiciness</th><th scope=col>Ripeness</th><th scope=col>Acidity</th><th scope=col>Quality</th></tr>\n",
       "\t<tr><th scope=col>&lt;dbl&gt;</th><th scope=col>&lt;dbl&gt;</th><th scope=col>&lt;dbl&gt;</th><th scope=col>&lt;dbl&gt;</th><th scope=col>&lt;dbl&gt;</th><th scope=col>&lt;dbl&gt;</th><th scope=col>&lt;dbl&gt;</th><th scope=col>&lt;chr&gt;</th><th scope=col>&lt;chr&gt;</th></tr>\n",
       "</thead>\n",
       "<tbody>\n",
       "\t<tr><td>0</td><td>-3.9700485</td><td>-2.512336</td><td> 5.346330</td><td>-1.0120087</td><td>1.8449004</td><td> 0.32983980</td><td>-0.491590483</td><td>good</td></tr>\n",
       "\t<tr><td>1</td><td>-1.1952172</td><td>-2.839257</td><td> 3.664059</td><td> 1.5882323</td><td>0.8532858</td><td> 0.86753008</td><td>-0.722809367</td><td>good</td></tr>\n",
       "\t<tr><td>2</td><td>-0.2920239</td><td>-1.351282</td><td>-1.738429</td><td>-0.3426159</td><td>2.8386355</td><td>-0.03803333</td><td>2.621636473 </td><td>bad </td></tr>\n",
       "\t<tr><td>⋮</td><td>⋮</td><td>⋮</td><td>⋮</td><td>⋮</td><td>⋮</td><td>⋮</td><td>⋮</td><td>⋮</td></tr>\n",
       "\t<tr><td>3997</td><td>-2.6345153</td><td>-2.138247</td><td>-2.4404613</td><td> 0.6572229</td><td>2.199709</td><td> 4.7638592</td><td>-1.334611391</td><td>bad </td></tr>\n",
       "\t<tr><td>3998</td><td>-4.0080037</td><td>-1.779337</td><td> 2.3663970</td><td>-0.2003294</td><td>2.161435</td><td> 0.2144884</td><td>-2.229719806</td><td>good</td></tr>\n",
       "\t<tr><td>3999</td><td> 0.2785397</td><td>-1.715505</td><td> 0.1212173</td><td>-1.1540748</td><td>1.266677</td><td>-0.7765715</td><td>1.599796456 </td><td>good</td></tr>\n",
       "</tbody>\n",
       "</table>\n"
      ],
      "text/latex": [
       "A tibble: 4000 × 9\n",
       "\\begin{tabular}{lllllllll}\n",
       " A\\_id & Size & Weight & Sweetness & Crunchiness & Juiciness & Ripeness & Acidity & Quality\\\\\n",
       " <dbl> & <dbl> & <dbl> & <dbl> & <dbl> & <dbl> & <dbl> & <chr> & <chr>\\\\\n",
       "\\hline\n",
       "\t 0 & -3.9700485 & -2.512336 &  5.346330 & -1.0120087 & 1.8449004 &  0.32983980 & -0.491590483 & good\\\\\n",
       "\t 1 & -1.1952172 & -2.839257 &  3.664059 &  1.5882323 & 0.8532858 &  0.86753008 & -0.722809367 & good\\\\\n",
       "\t 2 & -0.2920239 & -1.351282 & -1.738429 & -0.3426159 & 2.8386355 & -0.03803333 & 2.621636473  & bad \\\\\n",
       "\t ⋮ & ⋮ & ⋮ & ⋮ & ⋮ & ⋮ & ⋮ & ⋮ & ⋮\\\\\n",
       "\t 3997 & -2.6345153 & -2.138247 & -2.4404613 &  0.6572229 & 2.199709 &  4.7638592 & -1.334611391 & bad \\\\\n",
       "\t 3998 & -4.0080037 & -1.779337 &  2.3663970 & -0.2003294 & 2.161435 &  0.2144884 & -2.229719806 & good\\\\\n",
       "\t 3999 &  0.2785397 & -1.715505 &  0.1212173 & -1.1540748 & 1.266677 & -0.7765715 & 1.599796456  & good\\\\\n",
       "\\end{tabular}\n"
      ],
      "text/markdown": [
       "\n",
       "A tibble: 4000 × 9\n",
       "\n",
       "| A_id &lt;dbl&gt; | Size &lt;dbl&gt; | Weight &lt;dbl&gt; | Sweetness &lt;dbl&gt; | Crunchiness &lt;dbl&gt; | Juiciness &lt;dbl&gt; | Ripeness &lt;dbl&gt; | Acidity &lt;chr&gt; | Quality &lt;chr&gt; |\n",
       "|---|---|---|---|---|---|---|---|---|\n",
       "| 0 | -3.9700485 | -2.512336 |  5.346330 | -1.0120087 | 1.8449004 |  0.32983980 | -0.491590483 | good |\n",
       "| 1 | -1.1952172 | -2.839257 |  3.664059 |  1.5882323 | 0.8532858 |  0.86753008 | -0.722809367 | good |\n",
       "| 2 | -0.2920239 | -1.351282 | -1.738429 | -0.3426159 | 2.8386355 | -0.03803333 | 2.621636473  | bad  |\n",
       "| ⋮ | ⋮ | ⋮ | ⋮ | ⋮ | ⋮ | ⋮ | ⋮ | ⋮ |\n",
       "| 3997 | -2.6345153 | -2.138247 | -2.4404613 |  0.6572229 | 2.199709 |  4.7638592 | -1.334611391 | bad  |\n",
       "| 3998 | -4.0080037 | -1.779337 |  2.3663970 | -0.2003294 | 2.161435 |  0.2144884 | -2.229719806 | good |\n",
       "| 3999 |  0.2785397 | -1.715505 |  0.1212173 | -1.1540748 | 1.266677 | -0.7765715 | 1.599796456  | good |\n",
       "\n"
      ],
      "text/plain": [
       "     A_id Size       Weight    Sweetness  Crunchiness Juiciness Ripeness   \n",
       "1    0    -3.9700485 -2.512336  5.346330  -1.0120087  1.8449004  0.32983980\n",
       "2    1    -1.1952172 -2.839257  3.664059   1.5882323  0.8532858  0.86753008\n",
       "3    2    -0.2920239 -1.351282 -1.738429  -0.3426159  2.8386355 -0.03803333\n",
       "⋮    ⋮    ⋮          ⋮         ⋮          ⋮           ⋮         ⋮          \n",
       "3998 3997 -2.6345153 -2.138247 -2.4404613  0.6572229  2.199709   4.7638592 \n",
       "3999 3998 -4.0080037 -1.779337  2.3663970 -0.2003294  2.161435   0.2144884 \n",
       "4000 3999  0.2785397 -1.715505  0.1212173 -1.1540748  1.266677  -0.7765715 \n",
       "     Acidity      Quality\n",
       "1    -0.491590483 good   \n",
       "2    -0.722809367 good   \n",
       "3    2.621636473  bad    \n",
       "⋮    ⋮            ⋮      \n",
       "3998 -1.334611391 bad    \n",
       "3999 -2.229719806 good   \n",
       "4000 1.599796456  good   "
      ]
     },
     "metadata": {},
     "output_type": "display_data"
    }
   ],
   "source": [
    "#Because this dataframe involves comma separated values, we used the appropriate read function.\n",
    "apple <- read_csv(\"data/apple_quality.csv\") |>\n",
    "    head(-1) #This function removes the last row of the dataframe which included NA values and text crediting the author.\n",
    "apple"
   ]
  },
  {
   "cell_type": "code",
   "execution_count": 22,
   "id": "0416c240-f9e0-4a59-8100-2bbcf4f40736",
   "metadata": {},
   "outputs": [
    {
     "data": {
      "text/html": [
       "<table class=\"dataframe\">\n",
       "<caption>A tibble: 4000 × 9</caption>\n",
       "<thead>\n",
       "\t<tr><th scope=col>a_id</th><th scope=col>size</th><th scope=col>weight</th><th scope=col>sweetness</th><th scope=col>crunchiness</th><th scope=col>juiciness</th><th scope=col>ripeness</th><th scope=col>acidity</th><th scope=col>quality</th></tr>\n",
       "\t<tr><th scope=col>&lt;dbl&gt;</th><th scope=col>&lt;dbl&gt;</th><th scope=col>&lt;dbl&gt;</th><th scope=col>&lt;dbl&gt;</th><th scope=col>&lt;dbl&gt;</th><th scope=col>&lt;dbl&gt;</th><th scope=col>&lt;dbl&gt;</th><th scope=col>&lt;dbl&gt;</th><th scope=col>&lt;chr&gt;</th></tr>\n",
       "</thead>\n",
       "<tbody>\n",
       "\t<tr><td>0</td><td>-3.9700485</td><td>-2.512336</td><td> 5.346330</td><td>-1.0120087</td><td>1.8449004</td><td> 0.32983980</td><td>-0.4915905</td><td>good</td></tr>\n",
       "\t<tr><td>1</td><td>-1.1952172</td><td>-2.839257</td><td> 3.664059</td><td> 1.5882323</td><td>0.8532858</td><td> 0.86753008</td><td>-0.7228094</td><td>good</td></tr>\n",
       "\t<tr><td>2</td><td>-0.2920239</td><td>-1.351282</td><td>-1.738429</td><td>-0.3426159</td><td>2.8386355</td><td>-0.03803333</td><td> 2.6216365</td><td>bad </td></tr>\n",
       "\t<tr><td>⋮</td><td>⋮</td><td>⋮</td><td>⋮</td><td>⋮</td><td>⋮</td><td>⋮</td><td>⋮</td><td>⋮</td></tr>\n",
       "\t<tr><td>3997</td><td>-2.6345153</td><td>-2.138247</td><td>-2.4404613</td><td> 0.6572229</td><td>2.199709</td><td> 4.7638592</td><td>-1.334611</td><td>bad </td></tr>\n",
       "\t<tr><td>3998</td><td>-4.0080037</td><td>-1.779337</td><td> 2.3663970</td><td>-0.2003294</td><td>2.161435</td><td> 0.2144884</td><td>-2.229720</td><td>good</td></tr>\n",
       "\t<tr><td>3999</td><td> 0.2785397</td><td>-1.715505</td><td> 0.1212173</td><td>-1.1540748</td><td>1.266677</td><td>-0.7765715</td><td> 1.599796</td><td>good</td></tr>\n",
       "</tbody>\n",
       "</table>\n"
      ],
      "text/latex": [
       "A tibble: 4000 × 9\n",
       "\\begin{tabular}{lllllllll}\n",
       " a\\_id & size & weight & sweetness & crunchiness & juiciness & ripeness & acidity & quality\\\\\n",
       " <dbl> & <dbl> & <dbl> & <dbl> & <dbl> & <dbl> & <dbl> & <dbl> & <chr>\\\\\n",
       "\\hline\n",
       "\t 0 & -3.9700485 & -2.512336 &  5.346330 & -1.0120087 & 1.8449004 &  0.32983980 & -0.4915905 & good\\\\\n",
       "\t 1 & -1.1952172 & -2.839257 &  3.664059 &  1.5882323 & 0.8532858 &  0.86753008 & -0.7228094 & good\\\\\n",
       "\t 2 & -0.2920239 & -1.351282 & -1.738429 & -0.3426159 & 2.8386355 & -0.03803333 &  2.6216365 & bad \\\\\n",
       "\t ⋮ & ⋮ & ⋮ & ⋮ & ⋮ & ⋮ & ⋮ & ⋮ & ⋮\\\\\n",
       "\t 3997 & -2.6345153 & -2.138247 & -2.4404613 &  0.6572229 & 2.199709 &  4.7638592 & -1.334611 & bad \\\\\n",
       "\t 3998 & -4.0080037 & -1.779337 &  2.3663970 & -0.2003294 & 2.161435 &  0.2144884 & -2.229720 & good\\\\\n",
       "\t 3999 &  0.2785397 & -1.715505 &  0.1212173 & -1.1540748 & 1.266677 & -0.7765715 &  1.599796 & good\\\\\n",
       "\\end{tabular}\n"
      ],
      "text/markdown": [
       "\n",
       "A tibble: 4000 × 9\n",
       "\n",
       "| a_id &lt;dbl&gt; | size &lt;dbl&gt; | weight &lt;dbl&gt; | sweetness &lt;dbl&gt; | crunchiness &lt;dbl&gt; | juiciness &lt;dbl&gt; | ripeness &lt;dbl&gt; | acidity &lt;dbl&gt; | quality &lt;chr&gt; |\n",
       "|---|---|---|---|---|---|---|---|---|\n",
       "| 0 | -3.9700485 | -2.512336 |  5.346330 | -1.0120087 | 1.8449004 |  0.32983980 | -0.4915905 | good |\n",
       "| 1 | -1.1952172 | -2.839257 |  3.664059 |  1.5882323 | 0.8532858 |  0.86753008 | -0.7228094 | good |\n",
       "| 2 | -0.2920239 | -1.351282 | -1.738429 | -0.3426159 | 2.8386355 | -0.03803333 |  2.6216365 | bad  |\n",
       "| ⋮ | ⋮ | ⋮ | ⋮ | ⋮ | ⋮ | ⋮ | ⋮ | ⋮ |\n",
       "| 3997 | -2.6345153 | -2.138247 | -2.4404613 |  0.6572229 | 2.199709 |  4.7638592 | -1.334611 | bad  |\n",
       "| 3998 | -4.0080037 | -1.779337 |  2.3663970 | -0.2003294 | 2.161435 |  0.2144884 | -2.229720 | good |\n",
       "| 3999 |  0.2785397 | -1.715505 |  0.1212173 | -1.1540748 | 1.266677 | -0.7765715 |  1.599796 | good |\n",
       "\n"
      ],
      "text/plain": [
       "     a_id size       weight    sweetness  crunchiness juiciness ripeness   \n",
       "1    0    -3.9700485 -2.512336  5.346330  -1.0120087  1.8449004  0.32983980\n",
       "2    1    -1.1952172 -2.839257  3.664059   1.5882323  0.8532858  0.86753008\n",
       "3    2    -0.2920239 -1.351282 -1.738429  -0.3426159  2.8386355 -0.03803333\n",
       "⋮    ⋮    ⋮          ⋮         ⋮          ⋮           ⋮         ⋮          \n",
       "3998 3997 -2.6345153 -2.138247 -2.4404613  0.6572229  2.199709   4.7638592 \n",
       "3999 3998 -4.0080037 -1.779337  2.3663970 -0.2003294  2.161435   0.2144884 \n",
       "4000 3999  0.2785397 -1.715505  0.1212173 -1.1540748  1.266677  -0.7765715 \n",
       "     acidity    quality\n",
       "1    -0.4915905 good   \n",
       "2    -0.7228094 good   \n",
       "3     2.6216365 bad    \n",
       "⋮    ⋮          ⋮      \n",
       "3998 -1.334611  bad    \n",
       "3999 -2.229720  good   \n",
       "4000  1.599796  good   "
      ]
     },
     "metadata": {},
     "output_type": "display_data"
    }
   ],
   "source": [
    "apple_manipulated <- apple |>\n",
    "    clean_names() |>\n",
    "    mutate(acidity = as.numeric(acidity))\n",
    "apple_manipulated"
   ]
  },
  {
   "cell_type": "code",
   "execution_count": 26,
   "id": "70ad5b5a-d007-47c6-b70b-92fc1daf69cb",
   "metadata": {},
   "outputs": [
    {
     "data": {
      "text/html": [
       "<table class=\"dataframe\">\n",
       "<caption>A tibble: 4000 × 3</caption>\n",
       "<thead>\n",
       "\t<tr><th scope=col>ripeness</th><th scope=col>acidity</th><th scope=col>quality</th></tr>\n",
       "\t<tr><th scope=col>&lt;dbl&gt;</th><th scope=col>&lt;dbl&gt;</th><th scope=col>&lt;chr&gt;</th></tr>\n",
       "</thead>\n",
       "<tbody>\n",
       "\t<tr><td> 0.32983980</td><td>-0.4915905</td><td>good</td></tr>\n",
       "\t<tr><td> 0.86753008</td><td>-0.7228094</td><td>good</td></tr>\n",
       "\t<tr><td>-0.03803333</td><td> 2.6216365</td><td>bad </td></tr>\n",
       "\t<tr><td>⋮</td><td>⋮</td><td>⋮</td></tr>\n",
       "\t<tr><td> 4.7638592</td><td>-1.334611</td><td>bad </td></tr>\n",
       "\t<tr><td> 0.2144884</td><td>-2.229720</td><td>good</td></tr>\n",
       "\t<tr><td>-0.7765715</td><td> 1.599796</td><td>good</td></tr>\n",
       "</tbody>\n",
       "</table>\n"
      ],
      "text/latex": [
       "A tibble: 4000 × 3\n",
       "\\begin{tabular}{lll}\n",
       " ripeness & acidity & quality\\\\\n",
       " <dbl> & <dbl> & <chr>\\\\\n",
       "\\hline\n",
       "\t  0.32983980 & -0.4915905 & good\\\\\n",
       "\t  0.86753008 & -0.7228094 & good\\\\\n",
       "\t -0.03803333 &  2.6216365 & bad \\\\\n",
       "\t ⋮ & ⋮ & ⋮\\\\\n",
       "\t  4.7638592 & -1.334611 & bad \\\\\n",
       "\t  0.2144884 & -2.229720 & good\\\\\n",
       "\t -0.7765715 &  1.599796 & good\\\\\n",
       "\\end{tabular}\n"
      ],
      "text/markdown": [
       "\n",
       "A tibble: 4000 × 3\n",
       "\n",
       "| ripeness &lt;dbl&gt; | acidity &lt;dbl&gt; | quality &lt;chr&gt; |\n",
       "|---|---|---|\n",
       "|  0.32983980 | -0.4915905 | good |\n",
       "|  0.86753008 | -0.7228094 | good |\n",
       "| -0.03803333 |  2.6216365 | bad  |\n",
       "| ⋮ | ⋮ | ⋮ |\n",
       "|  4.7638592 | -1.334611 | bad  |\n",
       "|  0.2144884 | -2.229720 | good |\n",
       "| -0.7765715 |  1.599796 | good |\n",
       "\n"
      ],
      "text/plain": [
       "     ripeness    acidity    quality\n",
       "1     0.32983980 -0.4915905 good   \n",
       "2     0.86753008 -0.7228094 good   \n",
       "3    -0.03803333  2.6216365 bad    \n",
       "⋮    ⋮           ⋮          ⋮      \n",
       "3998  4.7638592  -1.334611  bad    \n",
       "3999  0.2144884  -2.229720  good   \n",
       "4000 -0.7765715   1.599796  good   "
      ]
     },
     "metadata": {},
     "output_type": "display_data"
    }
   ],
   "source": [
    "set.seed(4321)\n",
    "#We selected the values we would use for our data analysis, which only included Ripeness, Acidity, and Quality.\n",
    "#A random sample of 100 was taken because the data set was so large.\n",
    "apple_select <- apple_manipulated |>\n",
    "    select(ripeness, acidity, quality)\n",
    "apple_select"
   ]
  },
  {
   "cell_type": "code",
   "execution_count": 8,
   "id": "00225830-0cc8-4f32-b0e1-90119afb5bda",
   "metadata": {},
   "outputs": [
    {
     "ename": "ERROR",
     "evalue": "\u001b[1m\u001b[33mError\u001b[39m in `mc_cv()`:\u001b[22m\n\u001b[33m!\u001b[39m Can't subset columns that don't exist.\n\u001b[31m✖\u001b[39m Column `quality` doesn't exist.\n",
     "output_type": "error",
     "traceback": [
      "\u001b[1m\u001b[33mError\u001b[39m in `mc_cv()`:\u001b[22m\n\u001b[33m!\u001b[39m Can't subset columns that don't exist.\n\u001b[31m✖\u001b[39m Column `quality` doesn't exist.\nTraceback:\n",
      "1. initial_split(apple_select, prop = 0.75, strata = quality)",
      "2. mc_cv(data = data, prop = prop, strata = {\n .     {\n .         strata\n .     }\n . }, breaks = breaks, pool = pool, times = 1)",
      "3. tidyselect::vars_select(names(data), !!enquo(strata))",
      "4. eval_select_impl(NULL, .vars, expr(c(!!!dots)), include = .include, \n .     exclude = .exclude, strict = .strict, name_spec = unique_name_spec, \n .     uniquely_named = TRUE, error_call = caller_env())",
      "5. with_subscript_errors(out <- vars_select_eval(vars, expr, strict = strict, \n .     data = x, name_spec = name_spec, uniquely_named = uniquely_named, \n .     allow_rename = allow_rename, allow_empty = allow_empty, allow_predicates = allow_predicates, \n .     type = type, error_call = error_call), type = type)",
      "6. try_fetch(expr, vctrs_error_subscript = function(cnd) {\n .     cnd$subscript_action <- subscript_action(type)\n .     cnd$subscript_elt <- \"column\"\n .     cnd_signal(cnd)\n . })",
      "7. withCallingHandlers(expr, condition = function(cnd) {\n .     {\n .         .__handler_frame__. <- TRUE\n .         .__setup_frame__. <- frame\n .         if (inherits(cnd, \"message\")) {\n .             except <- c(\"warning\", \"error\")\n .         }\n .         else if (inherits(cnd, \"warning\")) {\n .             except <- \"error\"\n .         }\n .         else {\n .             except <- \"\"\n .         }\n .     }\n .     while (!is_null(cnd)) {\n .         if (inherits(cnd, \"vctrs_error_subscript\")) {\n .             out <- handlers[[1L]](cnd)\n .             if (!inherits(out, \"rlang_zap\")) \n .                 throw(out)\n .         }\n .         inherit <- .subset2(.subset2(cnd, \"rlang\"), \"inherit\")\n .         if (is_false(inherit)) {\n .             return()\n .         }\n .         cnd <- .subset2(cnd, \"parent\")\n .     }\n . })",
      "8. vars_select_eval(vars, expr, strict = strict, data = x, name_spec = name_spec, \n .     uniquely_named = uniquely_named, allow_rename = allow_rename, \n .     allow_empty = allow_empty, allow_predicates = allow_predicates, \n .     type = type, error_call = error_call)",
      "9. walk_data_tree(expr, data_mask, context_mask)",
      "10. eval_c(expr, data_mask, context_mask)",
      "11. reduce_sels(node, data_mask, context_mask, init = init)",
      "12. walk_data_tree(new, data_mask, context_mask)",
      "13. as_indices_sel_impl(out, vars = vars, strict = strict, data = data, \n  .     allow_predicates = allow_predicates, call = error_call, arg = as_label(expr))",
      "14. as_indices_impl(x, vars, call = call, arg = arg, strict = strict)",
      "15. chr_as_locations(x, vars, call = call, arg = arg)",
      "16. vctrs::vec_as_location(x, n = length(vars), names = vars, call = call, \n  .     arg = arg)",
      "17. (function () \n  . stop_subscript_oob(i = i, subscript_type = subscript_type, names = names, \n  .     subscript_action = subscript_action, subscript_arg = subscript_arg, \n  .     call = call))()",
      "18. stop_subscript_oob(i = i, subscript_type = subscript_type, names = names, \n  .     subscript_action = subscript_action, subscript_arg = subscript_arg, \n  .     call = call)",
      "19. stop_subscript(class = \"vctrs_error_subscript_oob\", i = i, subscript_type = subscript_type, \n  .     ..., call = call)",
      "20. abort(class = c(class, \"vctrs_error_subscript\"), i = i, ..., \n  .     call = call)",
      "21. signal_abort(cnd, .file)",
      "22. signalCondition(cnd)",
      "23. (function (cnd) \n  . {\n  .     {\n  .         .__handler_frame__. <- TRUE\n  .         .__setup_frame__. <- frame\n  .         if (inherits(cnd, \"message\")) {\n  .             except <- c(\"warning\", \"error\")\n  .         }\n  .         else if (inherits(cnd, \"warning\")) {\n  .             except <- \"error\"\n  .         }\n  .         else {\n  .             except <- \"\"\n  .         }\n  .     }\n  .     while (!is_null(cnd)) {\n  .         if (inherits(cnd, \"vctrs_error_subscript\")) {\n  .             out <- handlers[[1L]](cnd)\n  .             if (!inherits(out, \"rlang_zap\")) \n  .                 throw(out)\n  .         }\n  .         inherit <- .subset2(.subset2(cnd, \"rlang\"), \"inherit\")\n  .         if (is_false(inherit)) {\n  .             return()\n  .         }\n  .         cnd <- .subset2(cnd, \"parent\")\n  .     }\n  . })(structure(list(message = \"\", trace = structure(list(call = list(\n  .     IRkernel::main(), kernel$run(), handle_shell(), executor$execute(msg), \n  .     tryCatch(evaluate(request$content$code, envir = .GlobalEnv, \n  .         output_handler = oh, stop_on_error = 1L), interrupt = function(cond) {\n  .         log_debug(\"Interrupt during execution\")\n  .         interrupted <<- TRUE\n  .     }, error = .self$handle_error), tryCatchList(expr, classes, \n  .         parentenv, handlers), tryCatchOne(tryCatchList(expr, \n  .         names[-nh], parentenv, handlers[-nh]), names[nh], parentenv, \n  .         handlers[[nh]]), doTryCatch(return(expr), name, parentenv, \n  .         handler), tryCatchList(expr, names[-nh], parentenv, handlers[-nh]), \n  .     tryCatchOne(expr, names, parentenv, handlers[[1L]]), doTryCatch(return(expr), \n  .         name, parentenv, handler), evaluate(request$content$code, \n  .         envir = .GlobalEnv, output_handler = oh, stop_on_error = 1L), \n  .     evaluate_call(expr, parsed$src[[i]], envir = envir, enclos = enclos, \n  .         debug = debug, last = i == length(out), use_try = stop_on_error != \n  .             2L, keep_warning = keep_warning, keep_message = keep_message, \n  .         log_echo = log_echo, log_warning = log_warning, output_handler = output_handler, \n  .         include_timing = include_timing), timing_fn(handle(ev <- withCallingHandlers(withVisible(eval_with_user_handlers(expr, \n  .         envir, enclos, user_handlers)), warning = wHandler, error = eHandler, \n  .         message = mHandler))), handle(ev <- withCallingHandlers(withVisible(eval_with_user_handlers(expr, \n  .         envir, enclos, user_handlers)), warning = wHandler, error = eHandler, \n  .         message = mHandler)), try(f, silent = TRUE), tryCatch(expr, \n  .         error = function(e) {\n  .             call <- conditionCall(e)\n  .             if (!is.null(call)) {\n  .                 if (identical(call[[1L]], quote(doTryCatch))) \n  .                   call <- sys.call(-4L)\n  .                 dcall <- deparse(call, nlines = 1L)\n  .                 prefix <- paste(\"Error in\", dcall, \": \")\n  .                 LONG <- 75L\n  .                 sm <- strsplit(conditionMessage(e), \"\\n\")[[1L]]\n  .                 w <- 14L + nchar(dcall, type = \"w\") + nchar(sm[1L], \n  .                   type = \"w\")\n  .                 if (is.na(w)) \n  .                   w <- 14L + nchar(dcall, type = \"b\") + nchar(sm[1L], \n  .                     type = \"b\")\n  .                 if (w > LONG) \n  .                   prefix <- paste0(prefix, \"\\n  \")\n  .             }\n  .             else prefix <- \"Error : \"\n  .             msg <- paste0(prefix, conditionMessage(e), \"\\n\")\n  .             .Internal(seterrmessage(msg[1L]))\n  .             if (!silent && isTRUE(getOption(\"show.error.messages\"))) {\n  .                 cat(msg, file = outFile)\n  .                 .Internal(printDeferredWarnings())\n  .             }\n  .             invisible(structure(msg, class = \"try-error\", condition = e))\n  .         }), tryCatchList(expr, classes, parentenv, handlers), \n  .     tryCatchOne(expr, names, parentenv, handlers[[1L]]), doTryCatch(return(expr), \n  .         name, parentenv, handler), withCallingHandlers(withVisible(eval_with_user_handlers(expr, \n  .         envir, enclos, user_handlers)), warning = wHandler, error = eHandler, \n  .         message = mHandler), withVisible(eval_with_user_handlers(expr, \n  .         envir, enclos, user_handlers)), eval_with_user_handlers(expr, \n  .         envir, enclos, user_handlers), eval(expr, envir, enclos), \n  .     eval(expr, envir, enclos), initial_split(apple_select, prop = 0.75, \n  .         strata = quality), mc_cv(data = data, prop = prop, strata = {\n  .         {\n  .             strata\n  .         }\n  .     }, breaks = breaks, pool = pool, times = 1), tidyselect::vars_select(names(data), \n  .         !!enquo(strata)), eval_select_impl(NULL, .vars, expr(c(!!!dots)), \n  .         include = .include, exclude = .exclude, strict = .strict, \n  .         name_spec = unique_name_spec, uniquely_named = TRUE, \n  .         error_call = caller_env()), with_subscript_errors(out <- vars_select_eval(vars, \n  .         expr, strict = strict, data = x, name_spec = name_spec, \n  .         uniquely_named = uniquely_named, allow_rename = allow_rename, \n  .         allow_empty = allow_empty, allow_predicates = allow_predicates, \n  .         type = type, error_call = error_call), type = type), \n  .     try_fetch(expr, vctrs_error_subscript = function(cnd) {\n  .         cnd$subscript_action <- subscript_action(type)\n  .         cnd$subscript_elt <- \"column\"\n  .         cnd_signal(cnd)\n  .     }), withCallingHandlers(expr, condition = function(cnd) {\n  .         {\n  .             .__handler_frame__. <- TRUE\n  .             .__setup_frame__. <- frame\n  .             if (inherits(cnd, \"message\")) {\n  .                 except <- c(\"warning\", \"error\")\n  .             }\n  .             else if (inherits(cnd, \"warning\")) {\n  .                 except <- \"error\"\n  .             }\n  .             else {\n  .                 except <- \"\"\n  .             }\n  .         }\n  .         while (!is_null(cnd)) {\n  .             if (inherits(cnd, \"vctrs_error_subscript\")) {\n  .                 out <- handlers[[1L]](cnd)\n  .                 if (!inherits(out, \"rlang_zap\")) \n  .                   throw(out)\n  .             }\n  .             inherit <- .subset2(.subset2(cnd, \"rlang\"), \"inherit\")\n  .             if (is_false(inherit)) {\n  .                 return()\n  .             }\n  .             cnd <- .subset2(cnd, \"parent\")\n  .         }\n  .     }), vars_select_eval(vars, expr, strict = strict, data = x, \n  .         name_spec = name_spec, uniquely_named = uniquely_named, \n  .         allow_rename = allow_rename, allow_empty = allow_empty, \n  .         allow_predicates = allow_predicates, type = type, error_call = error_call), \n  .     walk_data_tree(expr, data_mask, context_mask), eval_c(expr, \n  .         data_mask, context_mask), reduce_sels(node, data_mask, \n  .         context_mask, init = init), walk_data_tree(new, data_mask, \n  .         context_mask), as_indices_sel_impl(out, vars = vars, \n  .         strict = strict, data = data, allow_predicates = allow_predicates, \n  .         call = error_call, arg = as_label(expr)), as_indices_impl(x, \n  .         vars, call = call, arg = arg, strict = strict), chr_as_locations(x, \n  .         vars, call = call, arg = arg), vctrs::vec_as_location(x, \n  .         n = length(vars), names = vars, call = call, arg = arg), \n  .     `<fn>`(), stop_subscript_oob(i = i, subscript_type = subscript_type, \n  .         names = names, subscript_action = subscript_action, subscript_arg = subscript_arg, \n  .         call = call), stop_subscript(class = \"vctrs_error_subscript_oob\", \n  .         i = i, subscript_type = subscript_type, ..., call = call), \n  .     abort(class = c(class, \"vctrs_error_subscript\"), i = i, ..., \n  .         call = call)), parent = c(0L, 1L, 2L, 3L, 4L, 5L, 6L, \n  . 7L, 6L, 9L, 10L, 4L, 12L, 13L, 13L, 15L, 16L, 17L, 18L, 19L, \n  . 13L, 13L, 13L, 23L, 24L, 0L, 26L, 27L, 28L, 29L, 30L, 31L, 29L, \n  . 33L, 34L, 35L, 36L, 37L, 38L, 39L, 40L, 0L, 42L, 43L, 44L), visible = c(TRUE, \n  . TRUE, TRUE, TRUE, TRUE, TRUE, TRUE, TRUE, TRUE, TRUE, TRUE, TRUE, \n  . TRUE, TRUE, TRUE, TRUE, TRUE, TRUE, TRUE, TRUE, TRUE, TRUE, TRUE, \n  . TRUE, TRUE, TRUE, TRUE, FALSE, FALSE, FALSE, FALSE, FALSE, FALSE, \n  . FALSE, FALSE, FALSE, FALSE, FALSE, FALSE, FALSE, FALSE, FALSE, \n  . FALSE, FALSE, FALSE), namespace = c(\"IRkernel\", NA, \"IRkernel\", \n  . NA, \"base\", \"base\", \"base\", \"base\", \"base\", \"base\", \"base\", \"evaluate\", \n  . \"evaluate\", \"evaluate\", \"evaluate\", \"base\", \"base\", \"base\", \"base\", \n  . \"base\", \"base\", \"base\", \"evaluate\", \"base\", \"base\", \"rsample\", \n  . \"rsample\", \"tidyselect\", \"tidyselect\", \"tidyselect\", \"rlang\", \n  . \"base\", \"tidyselect\", \"tidyselect\", \"tidyselect\", \"tidyselect\", \n  . \"tidyselect\", \"tidyselect\", \"tidyselect\", \"tidyselect\", \"vctrs\", \n  . \"vctrs\", \"vctrs\", \"vctrs\", \"rlang\"), scope = c(\"::\", NA, \"local\", \n  . NA, \"::\", \"local\", \"local\", \"local\", \"local\", \"local\", \"local\", \n  . \"::\", \":::\", \"local\", \"local\", \"::\", \"::\", \"local\", \"local\", \n  . \"local\", \"::\", \"::\", \":::\", \"::\", \"::\", \"::\", \"::\", \"::\", \":::\", \n  . \":::\", \"::\", \"::\", \":::\", \":::\", \":::\", \":::\", \":::\", \":::\", \n  . \":::\", \":::\", \"::\", \"local\", \":::\", \":::\", \"::\"), error_frame = c(FALSE, \n  . FALSE, FALSE, FALSE, FALSE, FALSE, FALSE, FALSE, FALSE, FALSE, \n  . FALSE, FALSE, FALSE, FALSE, FALSE, FALSE, FALSE, FALSE, FALSE, \n  . FALSE, FALSE, FALSE, FALSE, FALSE, FALSE, FALSE, TRUE, FALSE, \n  . FALSE, FALSE, FALSE, FALSE, FALSE, FALSE, FALSE, FALSE, FALSE, \n  . FALSE, FALSE, FALSE, FALSE, FALSE, FALSE, FALSE, FALSE)), row.names = c(NA, \n  . -45L), version = 2L, class = c(\"rlang_trace\", \"rlib_trace\", \"tbl\", \n  . \"data.frame\")), parent = NULL, i = \"quality\", subscript_type = \"character\", \n  .     names = c(\"Ripeness\", \"Acidity\", \"Quality\"), subscript_action = NULL, \n  .     subscript_arg = \"quality\", rlang = list(inherit = TRUE), \n  .     call = mc_cv(data = data, prop = prop, strata = {\n  .         {\n  .             strata\n  .         }\n  .     }, breaks = breaks, pool = pool, times = 1)), class = c(\"vctrs_error_subscript_oob\", \n  . \"vctrs_error_subscript\", \"rlang_error\", \"error\", \"condition\")))",
      "24. handlers[[1L]](cnd)",
      "25. cnd_signal(cnd)",
      "26. signal_abort(cnd)"
     ]
    }
   ],
   "source": [
    "# INSERT CROSS VALIDATION HERE (JUNYI)\n",
    "apple_split <- initial_split(apple_select, prop = 0.75, strata = quality)\n",
    "apple_train <- training(apple_split)\n",
    "apple_test <- testing(apple_split)\n",
    "\n",
    "apple_recipe <- recipe(quality ~ ripeness + acidity, data = apple_train) |>\n",
    " step_scale(all_predictors())|>\n",
    " step_center(all_predictors())\n",
    "\n",
    "apple_spec <- nearest_neighbor(weight_func = \"rectangular\", neighbors = tune()) |>\n",
    "         set_engine(\"kknn\") |>\n",
    "         set_mode(\"regression\")\n",
    "\n",
    "apple_vfold<- vfold_cv(apple_train, v=5, strata=quality)\n",
    "\n",
    "apple_wkflw <- workflow() |>\n",
    "    add_recipe(apple_recipe) |>\n",
    "    add_model(apple_spec) \n",
    "apple_wkflw\n",
    "\n",
    "gridvals<-tibble(neighbors=seq(1,200))\n",
    "\n",
    "apple_results<- apple_wkflw |>\n",
    " tune_grid(resemples= apple_vfold, grid=gridvals) |>\n",
    " collect_metrics()\n",
    "apple_results\n",
    "\n"
   ]
  },
  {
   "cell_type": "code",
   "execution_count": null,
   "id": "af2bbf3c-736e-43b6-a44a-754b33ff0977",
   "metadata": {},
   "outputs": [],
   "source": [
    "apple_split <- initial_split(apple_select, prop = 0.75, strata = Quality)\n",
    "apple_train <- training(apple_split)\n",
    "apple_test <- testing(apple_split)\n",
    "\n",
    "apple_spec <- nearest_neighbor(weight_func = \"rectangular\", neighbors = \n",
    "\n"
   ]
  },
  {
   "cell_type": "code",
   "execution_count": null,
   "id": "95be7b1b-ccf3-4193-a992-88e9f6907bc3",
   "metadata": {},
   "outputs": [],
   "source": [
    "\n",
    "\n",
    "# # apple_split <- initial_split(apple_select, prop = 0.75, strata = Quality)\n",
    "# # apple_train <- training(apple_split)\n",
    "# # apple_test <- testing(apple_split)\n",
    "\n",
    "# # apple_recipe <- recipe(Quality ~ Ripeness + Acidity, data = apple_train) #Data is already scaled and centered, so there is no need to use step_scale.\n",
    "\n",
    "# # knn_spec <- nearest_neighbor(weight_func = \"rectangular\", neighbors = 3) |>\n",
    "# #         set_engine(\"kknn\") |>\n",
    "# #         set_mode(\"classification\")\n",
    "\n",
    "# # knn_fit <- workflow() |>\n",
    "# #     add_recipe(apple_recipe) |>\n",
    "# #     add_model(knn_spec) |>\n",
    "# #     fit(data = apple_train)\n",
    "\n",
    "# # validation_predicted <- predict(knn_fit, apple_test) |>\n",
    "# #     bind_cols(apple_test)\n",
    "\n",
    "# # set.seed(1)\n",
    "\n",
    "# # apple_vfold<- vfold_cv(apple_train, v=5, strata=Quality)\n",
    "\n",
    "# # apple_recipe<- recipe(Quality~.,data=apple_train)|>\n",
    "# #  step_scale(all_predictors())|>\n",
    "# #  step_center(all_predictors())\n",
    "\n",
    "# # knn_spec<-nearest_neighbor(weight_func=\"rectangular\", neighbors=tune())|>\n",
    "# # set_engine(\"kknn\")|>\n",
    "# # set_mode(\"classification\")\n",
    "\n",
    "# # knn_results<-workflow() |>\n",
    "# #  add_recipe(apple_recipe) |>\n",
    "# #  add_model(knn_spec) |>\n",
    "# #  tune_grid(resamples=apple_vfold, grid=10) |>\n",
    "# #  collect_metrics()\n",
    "# # knn_results\n",
    "\n",
    "\n",
    "# set.seed(1)\n",
    "# apple_split<-initial_split(selected_data, prop=0.75, strata=Quality)\n",
    "# apple_train<-training(apple_split)\n",
    "# apple_test<-testing(apple_split)\n",
    "# glimpse(apple_train)\n",
    "# #create the split\n"
   ]
  },
  {
   "cell_type": "code",
   "execution_count": null,
   "id": "9228508a-9a68-4257-976c-18be4e10023d",
   "metadata": {
    "scrolled": true
   },
   "outputs": [],
   "source": [
    "\n",
    "#In the following code, a K-nn classifier is created using the training data and cross validation with 10 folds is completed to select an optimal K value.\n",
    "\n",
    "#quality_good_data <- data |>\n",
    "#    select(Ripeness, Acidity, Quality) |>\n",
    "#    filter(Quality == \"good\", na.rm = TRUE)\n",
    "\n",
    "#quality_good_data\n",
    "\n",
    "#options(repr.plot.width = 5, repr.plot.height = 5)\n",
    "#plot_filtered_good_data <- quality_good_data  |>\n",
    "#    ggplot(aes(x= Ripeness, y = Acidity, color = Quality)) +\n",
    "#    geom_point(alpha =0.4) +\n",
    "#    labs(x = \"Ripeness\",\n",
    "#         y = \"Acidity\",\n",
    "#         color = \"Quality\")\n",
    "#plot_filtered_good_data\n",
    "\n",
    "# options(repr.plot.width = 5, repr.plot.height = 5)\n",
    "\n",
    "# quality_bad_data <- data |>\n",
    "#     select(Ripeness, Acidity, Quality) |>\n",
    "#     filter(Quality == \"bad\", na.rm = TRUE)\n",
    "\n",
    "# quality_bad_data\n",
    "# plot_filtered_bad_data <- quality_bad_data  |>\n",
    "#     ggplot(aes(x= Ripeness, y = Acidity, color = Quality)) +\n",
    "#     geom_point(alpha =0.4) +\n",
    "#     labs(x = \"Ripeness\",\n",
    "#          y = \"Acidity\",\n",
    "#          color = \"Quality\")\n",
    "# plot_filtered_bad_data"
   ]
  },
  {
   "cell_type": "code",
   "execution_count": null,
   "id": "323d9f73-ad0f-45da-b7d4-2e70aaf7cb26",
   "metadata": {},
   "outputs": [],
   "source": []
  },
  {
   "cell_type": "code",
   "execution_count": null,
   "id": "4b6f6d90-aa81-4ce2-b6ab-fc6e714181bc",
   "metadata": {},
   "outputs": [],
   "source": []
  },
  {
   "cell_type": "code",
   "execution_count": null,
   "id": "c492bc9e-023b-4fe1-a7f8-ed777c206575",
   "metadata": {},
   "outputs": [],
   "source": []
  }
 ],
 "metadata": {
  "kernelspec": {
   "display_name": "R",
   "language": "R",
   "name": "ir"
  },
  "language_info": {
   "codemirror_mode": "r",
   "file_extension": ".r",
   "mimetype": "text/x-r-source",
   "name": "R",
   "pygments_lexer": "r",
   "version": "4.3.1"
  }
 },
 "nbformat": 4,
 "nbformat_minor": 5
}
