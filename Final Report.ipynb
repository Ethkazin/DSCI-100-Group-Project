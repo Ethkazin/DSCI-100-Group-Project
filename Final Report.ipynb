{
 "cells": [
  {
   "cell_type": "markdown",
   "id": "f05dd80b-e12b-4159-9cbd-268c5935d427",
   "metadata": {
    "editable": true,
    "slideshow": {
     "slide_type": ""
    },
    "tags": []
   },
   "source": [
    "# Understanding Apple Quality: A Prediction Based on Ripeness and Acidity\n",
    "### by Paul Bunuan, Nathan Ng, Tyler Tan, Junyi Yao"
   ]
  },
  {
   "cell_type": "markdown",
   "id": "a3d48962-ed86-4bed-b70f-2eb566119465",
   "metadata": {},
   "source": [
    "# Introduction\n",
    "    Apples are a common fruit consumed by people every day, with a variety of species being cultivated and harvested from farms across the world. In 2014, roughly 84 million tonnes of apples were produced (Musacchi & Serra, 2018). It is important for producers and sellers to maintain a quality standard for apples with regards to characteristics such as acidity, colour, shape, weight, and more. The values of these qualities will influence sales and the consumer’s chances of purchasing the product again. There are different ways manufacturers can measure the traits of apples. For instance, as apples ripen, they tend to become more alkaline with decreasing malic acid content, the primary acid found in apples. (Farcuh, 2018). However, the acidity is not used to track apple maturity because of the variation amongst species and differing optimal acid content for consumption (Farcuh, 2018). In our project, we aim to determine how the acidity and ripeness values of any given apple influences its overall quality status as “good” or “bad”; to answer this predictive question, we use a public dataset from Kaggle regarding apple quality (Elgiriyewithana, 2024). \r\n",
    "\n",
    "    \tThis dataset contains nine columns, which include Apple ID, Size, Weight, Sweetness, Crunchiness, Juiciness, Ripeness, Acidity, and Quality. However, for the purposes of this report, only the Ripeness, Acidity, and Quality columns will be used. It is hypothesized that apples with a higher Ripeness value and lower Acidity value are more likely to be characterized as “good” quality apples.\r\n"
   ]
  },
  {
   "cell_type": "markdown",
   "id": "6a2789fe-e37d-470f-8604-1dea0f280b2a",
   "metadata": {
    "jp-MarkdownHeadingCollapsed": true
   },
   "source": [
    "# Methods & Results\n",
    "## Methods\n",
    "1. describe in written English the methods you used to perform your analysis from beginning to end that narrates the code the does the analysis.\r",
    "2. \n",
    "your report should include code which:- \r\n",
    "loads data from the original source on the web-  \r\n",
    "wrangles and cleans the data from it's original (downloaded) format to the format necessary for the planned analys- is\r\n",
    "performs a summary of the data set that is relevant for exploratory data analysis related to the planned analys- is \r\n",
    "creates a visualization of the dataset that is relevant for exploratory data analysis related to the planned anal- ysis\r\n",
    "performs the data ana- lysis\r\n",
    "creates a visualization of the aa- lysis \r\n",
    "note: all tables and figure should have a figure/table number and a\n",
    "Here's a sentence with a footnote. [^1]\r\n",
    "\r\n",
    "[^1]: This is the footnote. legend\r\n"
   ]
  },
  {
   "cell_type": "markdown",
   "id": "432c7df4-f70e-4954-b36e-d4ccfa341f79",
   "metadata": {},
   "source": [
    "# Disscusion\n",
    "summarize what you found\r\n",
    "discuss whether this is what you expected to find?\r\n",
    "discuss what impact could such findings have?\r\n",
    "discuss what future questions could this lead to?\r\n"
   ]
  },
  {
   "cell_type": "markdown",
   "id": "5cc67b27-3ea8-4904-94f4-07d6e08374ce",
   "metadata": {},
   "source": [
    "# Sources \n",
    "Elgiriyewithana, N. (2024, January 11). Apple Quality. <br> &nbsp;&nbsp;&nbsp;&nbsp;&nbsp;&nbsp;&nbsp;&nbsp;&nbsp;&nbsp;&nbsp\n",
    ";Kaggle.  https://www.kaggle.com/datasets/nelgiriyewithana/apple-quality/data \n",
    "    \n",
    "Farcuh, M. (2023). Fruit Harvest - Determining Apple Fruit Maturity and Optimal Harvest Date. Determining Apple Fruit Maturity and Optimal Harvest Date. \n",
    "\n",
    "    Musacchi, S., & Serra, S. (2018). Apple Fruit Quality: Overview on pre-harvest factors. Scientia Horticulturae, 234, 409–430. https://doi.org/10.1016/j.scienta.2017.12.057 "
   ]
  },
  {
   "cell_type": "code",
   "execution_count": null,
   "id": "ec64fcf1-557c-46e8-a351-cc846367ed32",
   "metadata": {},
   "outputs": [],
   "source": []
  }
 ],
 "metadata": {
  "kernelspec": {
   "display_name": "R",
   "language": "R",
   "name": "ir"
  },
  "language_info": {
   "codemirror_mode": "r",
   "file_extension": ".r",
   "mimetype": "text/x-r-source",
   "name": "R",
   "pygments_lexer": "r",
   "version": "4.3.1"
  }
 },
 "nbformat": 4,
 "nbformat_minor": 5
}
