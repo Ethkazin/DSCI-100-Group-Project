{
 "cells": [
  {
   "cell_type": "markdown",
   "id": "f05dd80b-e12b-4159-9cbd-268c5935d427",
   "metadata": {
    "editable": true,
    "slideshow": {
     "slide_type": ""
    },
    "tags": []
   },
   "source": [
    "# Understanding Apple Quality: A Prediction Based on Ripeness and Acidity\n",
    "### by Paul Bunuan, Nathan Ng, Tyler Tan, Junyi Yao"
   ]
  },
  {
   "cell_type": "markdown",
   "id": "a3d48962-ed86-4bed-b70f-2eb566119465",
   "metadata": {},
   "source": [
    "# Introduction\n",
    "    Apples are a common fruit consumed by people every day, with a variety of species being cultivated and harvested from farms across the world. In 2014, roughly 84 million tonnes of apples were produced (Musacchi & Serra, 2018). It is important for producers and sellers to maintain a quality standard for apples with regards to characteristics such as acidity, colour, shape, weight, and more. The values of these qualities will influence sales and the consumer’s chances of purchasing the product again. There are different ways manufacturers can measure the traits of apples. For instance, as apples ripen, they tend to become more alkaline with decreasing malic acid content, the primary acid found in apples. (Farcuh, 2018). However, the acidity is not used to track apple maturity because of the variation amongst species and differing optimal acid content for consumption (Farcuh, 2018). In our project, we aim to determine how the acidity and ripeness values of any given apple influences its overall quality status as “good” or “bad”; to answer this predictive question, we use a public dataset from Kaggle regarding apple quality (Elgiriyewithana, 2024). \r\n",
    "\n",
    "    \tThis dataset contains nine columns, which include Apple ID, Size, Weight, Sweetness, Crunchiness, Juiciness, Ripeness, Acidity, and Quality. However, for the purposes of this report, only the Ripeness, Acidity, and Quality columns will be used. It is hypothesized that apples with a higher Ripeness value and lower Acidity value are more likely to be characterized as “good” quality apples.\r\n"
   ]
  },
  {
   "cell_type": "markdown",
   "id": "6a2789fe-e37d-470f-8604-1dea0f280b2a",
   "metadata": {},
   "source": [
    "# Methods & Results\n",
    "## Methods\n",
    "1. describe in written English the methods you used to perform your analysis from beginning to end that narrates the code the does the analysis.\r",
    "2. \n",
    "your report should include code which:- \r\n",
    "loads data from the original source on the web-  \r\n",
    "wrangles and cleans the data from it's original (downloaded) format to the format necessary for the planned analys- is\r\n",
    "performs a summary of the data set that is relevant for exploratory data analysis related to the planned analys- is \r\n",
    "creates a visualization of the dataset that is relevant for exploratory data analysis related to the planned anal- ysis\r\n",
    "performs the data ana- lysis\r\n",
    "creates a visualization of the aa- lysis \r\n",
    "note: all tables and figure should have a figure/table number. legend\r\n"
   ]
  },
  {
   "cell_type": "markdown",
   "id": "3d5a2c75-726e-4b1f-97d4-b24fce8e4d6e",
   "metadata": {},
   "source": [
    "### Libraries"
   ]
  },
  {
   "cell_type": "code",
   "execution_count": 1,
   "id": "402fd820-2fbc-4369-9c64-5b73543fca45",
   "metadata": {},
   "outputs": [
    {
     "name": "stderr",
     "output_type": "stream",
     "text": [
      "Warning message:\n",
      "“package ‘ggplot2’ was built under R version 4.3.2”\n",
      "── \u001b[1mAttaching core tidyverse packages\u001b[22m ──────────────────────── tidyverse 2.0.0 ──\n",
      "\u001b[32m✔\u001b[39m \u001b[34mdplyr    \u001b[39m 1.1.3     \u001b[32m✔\u001b[39m \u001b[34mreadr    \u001b[39m 2.1.4\n",
      "\u001b[32m✔\u001b[39m \u001b[34mforcats  \u001b[39m 1.0.0     \u001b[32m✔\u001b[39m \u001b[34mstringr  \u001b[39m 1.5.0\n",
      "\u001b[32m✔\u001b[39m \u001b[34mggplot2  \u001b[39m 3.5.0     \u001b[32m✔\u001b[39m \u001b[34mtibble   \u001b[39m 3.2.1\n",
      "\u001b[32m✔\u001b[39m \u001b[34mlubridate\u001b[39m 1.9.2     \u001b[32m✔\u001b[39m \u001b[34mtidyr    \u001b[39m 1.3.0\n",
      "\u001b[32m✔\u001b[39m \u001b[34mpurrr    \u001b[39m 1.0.2     \n",
      "── \u001b[1mConflicts\u001b[22m ────────────────────────────────────────── tidyverse_conflicts() ──\n",
      "\u001b[31m✖\u001b[39m \u001b[34mdplyr\u001b[39m::\u001b[32mfilter()\u001b[39m masks \u001b[34mstats\u001b[39m::filter()\n",
      "\u001b[31m✖\u001b[39m \u001b[34mdplyr\u001b[39m::\u001b[32mlag()\u001b[39m    masks \u001b[34mstats\u001b[39m::lag()\n",
      "\u001b[36mℹ\u001b[39m Use the conflicted package (\u001b[3m\u001b[34m<http://conflicted.r-lib.org/>\u001b[39m\u001b[23m) to force all conflicts to become errors\n",
      "── \u001b[1mAttaching packages\u001b[22m ────────────────────────────────────── tidymodels 1.1.1 ──\n",
      "\n",
      "\u001b[32m✔\u001b[39m \u001b[34mbroom       \u001b[39m 1.0.5     \u001b[32m✔\u001b[39m \u001b[34mrsample     \u001b[39m 1.2.0\n",
      "\u001b[32m✔\u001b[39m \u001b[34mdials       \u001b[39m 1.2.0     \u001b[32m✔\u001b[39m \u001b[34mtune        \u001b[39m 1.1.2\n",
      "\u001b[32m✔\u001b[39m \u001b[34minfer       \u001b[39m 1.0.5     \u001b[32m✔\u001b[39m \u001b[34mworkflows   \u001b[39m 1.1.3\n",
      "\u001b[32m✔\u001b[39m \u001b[34mmodeldata   \u001b[39m 1.2.0     \u001b[32m✔\u001b[39m \u001b[34mworkflowsets\u001b[39m 1.0.1\n",
      "\u001b[32m✔\u001b[39m \u001b[34mparsnip     \u001b[39m 1.1.1     \u001b[32m✔\u001b[39m \u001b[34myardstick   \u001b[39m 1.2.0\n",
      "\u001b[32m✔\u001b[39m \u001b[34mrecipes     \u001b[39m 1.0.8     \n",
      "\n",
      "── \u001b[1mConflicts\u001b[22m ───────────────────────────────────────── tidymodels_conflicts() ──\n",
      "\u001b[31m✖\u001b[39m \u001b[34mscales\u001b[39m::\u001b[32mdiscard()\u001b[39m masks \u001b[34mpurrr\u001b[39m::discard()\n",
      "\u001b[31m✖\u001b[39m \u001b[34mdplyr\u001b[39m::\u001b[32mfilter()\u001b[39m   masks \u001b[34mstats\u001b[39m::filter()\n",
      "\u001b[31m✖\u001b[39m \u001b[34mrecipes\u001b[39m::\u001b[32mfixed()\u001b[39m  masks \u001b[34mstringr\u001b[39m::fixed()\n",
      "\u001b[31m✖\u001b[39m \u001b[34mdplyr\u001b[39m::\u001b[32mlag()\u001b[39m      masks \u001b[34mstats\u001b[39m::lag()\n",
      "\u001b[31m✖\u001b[39m \u001b[34myardstick\u001b[39m::\u001b[32mspec()\u001b[39m masks \u001b[34mreadr\u001b[39m::spec()\n",
      "\u001b[31m✖\u001b[39m \u001b[34mrecipes\u001b[39m::\u001b[32mstep()\u001b[39m   masks \u001b[34mstats\u001b[39m::step()\n",
      "\u001b[34m•\u001b[39m Search for functions across packages at \u001b[32mhttps://www.tidymodels.org/find/\u001b[39m\n",
      "\n",
      "\n",
      "Attaching package: ‘janitor’\n",
      "\n",
      "\n",
      "The following objects are masked from ‘package:stats’:\n",
      "\n",
      "    chisq.test, fisher.test\n",
      "\n",
      "\n"
     ]
    }
   ],
   "source": [
    "library(tidyverse)\n",
    "library(repr)\n",
    "library(tidymodels)\n",
    "library(janitor)\n",
    "options(repr.matrix.max.rows = 6)"
   ]
  },
  {
   "cell_type": "code",
   "execution_count": null,
   "id": "5d762a97-e7e7-4e25-ac7b-ea7a158b87eb",
   "metadata": {},
   "outputs": [],
   "source": []
  },
  {
   "cell_type": "markdown",
   "id": "432c7df4-f70e-4954-b36e-d4ccfa341f79",
   "metadata": {},
   "source": [
    "# Disscusion\n",
    "summarize what you found\r\n",
    "discuss whether this is what you expected to find?\r\n",
    "discuss what impact could such findings have?\r\n",
    "discuss what future questions could this lead to?\r\n"
   ]
  },
  {
   "cell_type": "markdown",
   "id": "5cc67b27-3ea8-4904-94f4-07d6e08374ce",
   "metadata": {},
   "source": [
    "# Sources \n",
    "Elgiriyewithana, N. (2024, January 11). Apple Quality. <br> &nbsp;&nbsp;&nbsp;&nbsp;&nbsp;&nbsp;&nbsp;&nbsp;&nbsp;&nbsp;&nbsp\n",
    ";Kaggle.  https://www.kaggle.com/datasets/nelgiriyewithana/apple-quality/data \n",
    "    \n",
    "Farcuh, M. (2023). Fruit Harvest - Determining Apple Fruit Maturity and Optimal Harvest Date. Determining Apple Fruit Maturity and Optimal Harvest Date. \n",
    "\n",
    "    Musacchi, S., & Serra, S. (2018). Apple Fruit Quality: Overview on pre-harvest factors. Scientia Horticulturae, 234, 409–430. https://doi.org/10.1016/j.scienta.2017.12.057 "
   ]
  },
  {
   "cell_type": "code",
   "execution_count": null,
   "id": "ec64fcf1-557c-46e8-a351-cc846367ed32",
   "metadata": {},
   "outputs": [],
   "source": []
  }
 ],
 "metadata": {
  "kernelspec": {
   "display_name": "R",
   "language": "R",
   "name": "ir"
  },
  "language_info": {
   "codemirror_mode": "r",
   "file_extension": ".r",
   "mimetype": "text/x-r-source",
   "name": "R",
   "pygments_lexer": "r",
   "version": "4.3.1"
  }
 },
 "nbformat": 4,
 "nbformat_minor": 5
}
