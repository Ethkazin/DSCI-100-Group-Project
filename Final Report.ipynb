{
 "cells": [
  {
   "cell_type": "markdown",
   "id": "f05dd80b-e12b-4159-9cbd-268c5935d427",
   "metadata": {
    "editable": true,
    "slideshow": {
     "slide_type": ""
    },
    "tags": []
   },
   "source": [
    "# Understanding Apple Quality: A Prediction Based on Ripeness and Acidity\n",
    "### by Paul Bunuan, Nathan Ng, Tyler Tan, Junyi Yao"
   ]
  },
  {
   "cell_type": "markdown",
   "id": "a3d48962-ed86-4bed-b70f-2eb566119465",
   "metadata": {},
   "source": [
    "# Introduction\n",
    "    Apples are a common fruit consumed by people every day, with a variety of species being cultivated and harvested from farms across the world. In 2014, roughly 84 million tonnes of apples were produced (Musacchi & Serra, 2018). It is important for producers and sellers to maintain a quality standard for apples with regards to characteristics such as acidity, colour, shape, weight, and more. The values of these qualities will influence sales and the consumer’s chances of purchasing the product again. There are different ways manufacturers can measure the traits of apples. For instance, as apples ripen, they tend to become more alkaline with decreasing malic acid content, the primary acid found in apples. (Farcuh, 2018). However, the acidity is not used to track apple maturity because of the variation amongst species and differing optimal acid content for consumption (Farcuh, 2018). In our project, we aim to determine how the acidity and ripeness values of any given apple influences its overall quality status as “good” or “bad”; to answer this predictive question, we use a public dataset from Kaggle regarding apple quality (Elgiriyewithana, 2024). \r\n",
    "\n",
    "    \tThis dataset contains nine columns, which include Apple ID, Size, Weight, Sweetness, Crunchiness, Juiciness, Ripeness, Acidity, and Quality. However, for the purposes of this report, only the Ripeness, Acidity, and Quality columns will be used. It is hypothesized that apples with a higher Ripeness value and lower Acidity value are more likely to be characterized as “good” quality apples.\r\n"
   ]
  },
  {
   "cell_type": "markdown",
   "id": "6a2789fe-e37d-470f-8604-1dea0f280b2a",
   "metadata": {},
   "source": [
    "# Methods & Results\n",
    "## Methods\n",
    "1. describe in written English the methods you used to perform your analysis from beginning to end that narrate the code that does the analysis.\n",
    "2. your report should include code which:- \r",
    "        \n",
    "loads data from the original source on the web-  \r\n",
    "wrangles and cleans the data froits's original (downloaded) format to the format necessary for the planneanalysisis\r\n",
    "performs a summary of the data set that is relevant for exploratory data analysis related to the plannanalysis is \r\n",
    "creates a visualization of the dataset that is relevant for exploratory data analysis related to the plananalysisysis\r\n",
    "performs the analysislysis\r\n",
    "creates a visualization of the aa- lysis \r\n",
    "note: all tablfigures figure should have a figure/table numbe. legend\r\n"
   ]
  },
  {
   "cell_type": "markdown",
   "id": "3d5a2c75-726e-4b1f-97d4-b24fce8e4d6e",
   "metadata": {},
   "source": [
    "### Analysis\n",
    "First we loaded in the libraries that are needed for the data"
   ]
  },
  {
   "cell_type": "code",
   "execution_count": 1,
   "id": "402fd820-2fbc-4369-9c64-5b73543fca45",
   "metadata": {},
   "outputs": [
    {
     "name": "stderr",
     "output_type": "stream",
     "text": [
      "Warning message:\n",
      "“package ‘ggplot2’ was built under R version 4.3.2”\n",
      "── \u001b[1mAttaching core tidyverse packages\u001b[22m ──────────────────────── tidyverse 2.0.0 ──\n",
      "\u001b[32m✔\u001b[39m \u001b[34mdplyr    \u001b[39m 1.1.3     \u001b[32m✔\u001b[39m \u001b[34mreadr    \u001b[39m 2.1.4\n",
      "\u001b[32m✔\u001b[39m \u001b[34mforcats  \u001b[39m 1.0.0     \u001b[32m✔\u001b[39m \u001b[34mstringr  \u001b[39m 1.5.0\n",
      "\u001b[32m✔\u001b[39m \u001b[34mggplot2  \u001b[39m 3.5.0     \u001b[32m✔\u001b[39m \u001b[34mtibble   \u001b[39m 3.2.1\n",
      "\u001b[32m✔\u001b[39m \u001b[34mlubridate\u001b[39m 1.9.2     \u001b[32m✔\u001b[39m \u001b[34mtidyr    \u001b[39m 1.3.0\n",
      "\u001b[32m✔\u001b[39m \u001b[34mpurrr    \u001b[39m 1.0.2     \n",
      "── \u001b[1mConflicts\u001b[22m ────────────────────────────────────────── tidyverse_conflicts() ──\n",
      "\u001b[31m✖\u001b[39m \u001b[34mdplyr\u001b[39m::\u001b[32mfilter()\u001b[39m masks \u001b[34mstats\u001b[39m::filter()\n",
      "\u001b[31m✖\u001b[39m \u001b[34mdplyr\u001b[39m::\u001b[32mlag()\u001b[39m    masks \u001b[34mstats\u001b[39m::lag()\n",
      "\u001b[36mℹ\u001b[39m Use the conflicted package (\u001b[3m\u001b[34m<http://conflicted.r-lib.org/>\u001b[39m\u001b[23m) to force all conflicts to become errors\n",
      "── \u001b[1mAttaching packages\u001b[22m ────────────────────────────────────── tidymodels 1.1.1 ──\n",
      "\n",
      "\u001b[32m✔\u001b[39m \u001b[34mbroom       \u001b[39m 1.0.5     \u001b[32m✔\u001b[39m \u001b[34mrsample     \u001b[39m 1.2.0\n",
      "\u001b[32m✔\u001b[39m \u001b[34mdials       \u001b[39m 1.2.0     \u001b[32m✔\u001b[39m \u001b[34mtune        \u001b[39m 1.1.2\n",
      "\u001b[32m✔\u001b[39m \u001b[34minfer       \u001b[39m 1.0.5     \u001b[32m✔\u001b[39m \u001b[34mworkflows   \u001b[39m 1.1.3\n",
      "\u001b[32m✔\u001b[39m \u001b[34mmodeldata   \u001b[39m 1.2.0     \u001b[32m✔\u001b[39m \u001b[34mworkflowsets\u001b[39m 1.0.1\n",
      "\u001b[32m✔\u001b[39m \u001b[34mparsnip     \u001b[39m 1.1.1     \u001b[32m✔\u001b[39m \u001b[34myardstick   \u001b[39m 1.2.0\n",
      "\u001b[32m✔\u001b[39m \u001b[34mrecipes     \u001b[39m 1.0.8     \n",
      "\n",
      "── \u001b[1mConflicts\u001b[22m ───────────────────────────────────────── tidymodels_conflicts() ──\n",
      "\u001b[31m✖\u001b[39m \u001b[34mscales\u001b[39m::\u001b[32mdiscard()\u001b[39m masks \u001b[34mpurrr\u001b[39m::discard()\n",
      "\u001b[31m✖\u001b[39m \u001b[34mdplyr\u001b[39m::\u001b[32mfilter()\u001b[39m   masks \u001b[34mstats\u001b[39m::filter()\n",
      "\u001b[31m✖\u001b[39m \u001b[34mrecipes\u001b[39m::\u001b[32mfixed()\u001b[39m  masks \u001b[34mstringr\u001b[39m::fixed()\n",
      "\u001b[31m✖\u001b[39m \u001b[34mdplyr\u001b[39m::\u001b[32mlag()\u001b[39m      masks \u001b[34mstats\u001b[39m::lag()\n",
      "\u001b[31m✖\u001b[39m \u001b[34myardstick\u001b[39m::\u001b[32mspec()\u001b[39m masks \u001b[34mreadr\u001b[39m::spec()\n",
      "\u001b[31m✖\u001b[39m \u001b[34mrecipes\u001b[39m::\u001b[32mstep()\u001b[39m   masks \u001b[34mstats\u001b[39m::step()\n",
      "\u001b[34m•\u001b[39m Search for functions across packages at \u001b[32mhttps://www.tidymodels.org/find/\u001b[39m\n",
      "\n",
      "\n",
      "Attaching package: ‘janitor’\n",
      "\n",
      "\n",
      "The following objects are masked from ‘package:stats’:\n",
      "\n",
      "    chisq.test, fisher.test\n",
      "\n",
      "\n"
     ]
    }
   ],
   "source": [
    "# Libraries used\n",
    "library(tidyverse)\n",
    "library(repr)\n",
    "library(tidymodels)\n",
    "library(janitor)\n",
    "options(repr.matrix.max.rows = 6)"
   ]
  },
  {
   "cell_type": "markdown",
   "id": "2a6332e6-96b8-44c2-95dd-7ae877344894",
   "metadata": {},
   "source": [
    "Then we created a dataframe for the data called `apple`."
   ]
  },
  {
   "cell_type": "code",
   "execution_count": 37,
   "id": "a0ccfc7e-0ff4-4b63-9491-fc31218adf3a",
   "metadata": {},
   "outputs": [
    {
     "data": {
      "text/html": [
       "<table class=\"dataframe\">\n",
       "<caption>A tibble: 4000 × 9</caption>\n",
       "<thead>\n",
       "\t<tr><th scope=col>A_id</th><th scope=col>Size</th><th scope=col>Weight</th><th scope=col>Sweetness</th><th scope=col>Crunchiness</th><th scope=col>Juiciness</th><th scope=col>Ripeness</th><th scope=col>Acidity</th><th scope=col>Quality</th></tr>\n",
       "\t<tr><th scope=col>&lt;dbl&gt;</th><th scope=col>&lt;dbl&gt;</th><th scope=col>&lt;dbl&gt;</th><th scope=col>&lt;dbl&gt;</th><th scope=col>&lt;dbl&gt;</th><th scope=col>&lt;dbl&gt;</th><th scope=col>&lt;dbl&gt;</th><th scope=col>&lt;chr&gt;</th><th scope=col>&lt;chr&gt;</th></tr>\n",
       "</thead>\n",
       "<tbody>\n",
       "\t<tr><td>0</td><td>-3.9700485</td><td>-2.512336</td><td> 5.346330</td><td>-1.0120087</td><td>1.8449004</td><td> 0.32983980</td><td>-0.491590483</td><td>good</td></tr>\n",
       "\t<tr><td>1</td><td>-1.1952172</td><td>-2.839257</td><td> 3.664059</td><td> 1.5882323</td><td>0.8532858</td><td> 0.86753008</td><td>-0.722809367</td><td>good</td></tr>\n",
       "\t<tr><td>2</td><td>-0.2920239</td><td>-1.351282</td><td>-1.738429</td><td>-0.3426159</td><td>2.8386355</td><td>-0.03803333</td><td>2.621636473 </td><td>bad </td></tr>\n",
       "\t<tr><td>⋮</td><td>⋮</td><td>⋮</td><td>⋮</td><td>⋮</td><td>⋮</td><td>⋮</td><td>⋮</td><td>⋮</td></tr>\n",
       "\t<tr><td>3997</td><td>-2.6345153</td><td>-2.138247</td><td>-2.4404613</td><td> 0.6572229</td><td>2.199709</td><td> 4.7638592</td><td>-1.334611391</td><td>bad </td></tr>\n",
       "\t<tr><td>3998</td><td>-4.0080037</td><td>-1.779337</td><td> 2.3663970</td><td>-0.2003294</td><td>2.161435</td><td> 0.2144884</td><td>-2.229719806</td><td>good</td></tr>\n",
       "\t<tr><td>3999</td><td> 0.2785397</td><td>-1.715505</td><td> 0.1212173</td><td>-1.1540748</td><td>1.266677</td><td>-0.7765715</td><td>1.599796456 </td><td>good</td></tr>\n",
       "</tbody>\n",
       "</table>\n"
      ],
      "text/latex": [
       "A tibble: 4000 × 9\n",
       "\\begin{tabular}{lllllllll}\n",
       " A\\_id & Size & Weight & Sweetness & Crunchiness & Juiciness & Ripeness & Acidity & Quality\\\\\n",
       " <dbl> & <dbl> & <dbl> & <dbl> & <dbl> & <dbl> & <dbl> & <chr> & <chr>\\\\\n",
       "\\hline\n",
       "\t 0 & -3.9700485 & -2.512336 &  5.346330 & -1.0120087 & 1.8449004 &  0.32983980 & -0.491590483 & good\\\\\n",
       "\t 1 & -1.1952172 & -2.839257 &  3.664059 &  1.5882323 & 0.8532858 &  0.86753008 & -0.722809367 & good\\\\\n",
       "\t 2 & -0.2920239 & -1.351282 & -1.738429 & -0.3426159 & 2.8386355 & -0.03803333 & 2.621636473  & bad \\\\\n",
       "\t ⋮ & ⋮ & ⋮ & ⋮ & ⋮ & ⋮ & ⋮ & ⋮ & ⋮\\\\\n",
       "\t 3997 & -2.6345153 & -2.138247 & -2.4404613 &  0.6572229 & 2.199709 &  4.7638592 & -1.334611391 & bad \\\\\n",
       "\t 3998 & -4.0080037 & -1.779337 &  2.3663970 & -0.2003294 & 2.161435 &  0.2144884 & -2.229719806 & good\\\\\n",
       "\t 3999 &  0.2785397 & -1.715505 &  0.1212173 & -1.1540748 & 1.266677 & -0.7765715 & 1.599796456  & good\\\\\n",
       "\\end{tabular}\n"
      ],
      "text/markdown": [
       "\n",
       "A tibble: 4000 × 9\n",
       "\n",
       "| A_id &lt;dbl&gt; | Size &lt;dbl&gt; | Weight &lt;dbl&gt; | Sweetness &lt;dbl&gt; | Crunchiness &lt;dbl&gt; | Juiciness &lt;dbl&gt; | Ripeness &lt;dbl&gt; | Acidity &lt;chr&gt; | Quality &lt;chr&gt; |\n",
       "|---|---|---|---|---|---|---|---|---|\n",
       "| 0 | -3.9700485 | -2.512336 |  5.346330 | -1.0120087 | 1.8449004 |  0.32983980 | -0.491590483 | good |\n",
       "| 1 | -1.1952172 | -2.839257 |  3.664059 |  1.5882323 | 0.8532858 |  0.86753008 | -0.722809367 | good |\n",
       "| 2 | -0.2920239 | -1.351282 | -1.738429 | -0.3426159 | 2.8386355 | -0.03803333 | 2.621636473  | bad  |\n",
       "| ⋮ | ⋮ | ⋮ | ⋮ | ⋮ | ⋮ | ⋮ | ⋮ | ⋮ |\n",
       "| 3997 | -2.6345153 | -2.138247 | -2.4404613 |  0.6572229 | 2.199709 |  4.7638592 | -1.334611391 | bad  |\n",
       "| 3998 | -4.0080037 | -1.779337 |  2.3663970 | -0.2003294 | 2.161435 |  0.2144884 | -2.229719806 | good |\n",
       "| 3999 |  0.2785397 | -1.715505 |  0.1212173 | -1.1540748 | 1.266677 | -0.7765715 | 1.599796456  | good |\n",
       "\n"
      ],
      "text/plain": [
       "     A_id Size       Weight    Sweetness  Crunchiness Juiciness Ripeness   \n",
       "1    0    -3.9700485 -2.512336  5.346330  -1.0120087  1.8449004  0.32983980\n",
       "2    1    -1.1952172 -2.839257  3.664059   1.5882323  0.8532858  0.86753008\n",
       "3    2    -0.2920239 -1.351282 -1.738429  -0.3426159  2.8386355 -0.03803333\n",
       "⋮    ⋮    ⋮          ⋮         ⋮          ⋮           ⋮         ⋮          \n",
       "3998 3997 -2.6345153 -2.138247 -2.4404613  0.6572229  2.199709   4.7638592 \n",
       "3999 3998 -4.0080037 -1.779337  2.3663970 -0.2003294  2.161435   0.2144884 \n",
       "4000 3999  0.2785397 -1.715505  0.1212173 -1.1540748  1.266677  -0.7765715 \n",
       "     Acidity      Quality\n",
       "1    -0.491590483 good   \n",
       "2    -0.722809367 good   \n",
       "3    2.621636473  bad    \n",
       "⋮    ⋮            ⋮      \n",
       "3998 -1.334611391 bad    \n",
       "3999 -2.229719806 good   \n",
       "4000 1.599796456  good   "
      ]
     },
     "metadata": {},
     "output_type": "display_data"
    },
    {
     "name": "stdout",
     "output_type": "stream",
     "text": [
      "[1] \"Table 1: Apple dataset\"\n"
     ]
    }
   ],
   "source": [
    "\n",
    "apple <- read_csv(\"data/apple_quality.csv\",show_col_types = FALSE) |>\n",
    "    head(-1) #This function removes the last row of the dataframe which included NA values and text crediting the author. |>\n",
    "apple\n",
    "print(\"Table 1: Apple dataset\")"
   ]
  },
  {
   "cell_type": "markdown",
   "id": "cbe72a32-a15f-4cf2-b669-c76f60f9b53a",
   "metadata": {},
   "source": [
    "### Cleaning up the Data \n",
    "\n",
    "As noted, we have read the CSV file where the data is stored. However, the data is cluttered with numerous columns that are irrelevant to our classification model. To ensure precision, we meticulously clean up the data, selecting only the specific columns that are crucial for our model's accuracy.\n",
    "\n",
    "BONUS: We noticed that R had trouble reading the original `Acidity` column. This was most likely because there were hidden characters in the file that R could not read, so we cleaned up the data below with the following code."
   ]
  },
  {
   "cell_type": "code",
   "execution_count": 38,
   "id": "cdbba0e1-efef-4270-afce-46075775fec3",
   "metadata": {},
   "outputs": [
    {
     "data": {
      "text/html": [
       "<table class=\"dataframe\">\n",
       "<caption>A tibble: 4000 × 9</caption>\n",
       "<thead>\n",
       "\t<tr><th scope=col>a_id</th><th scope=col>size</th><th scope=col>weight</th><th scope=col>sweetness</th><th scope=col>crunchiness</th><th scope=col>juiciness</th><th scope=col>ripeness</th><th scope=col>acidity</th><th scope=col>quality</th></tr>\n",
       "\t<tr><th scope=col>&lt;dbl&gt;</th><th scope=col>&lt;dbl&gt;</th><th scope=col>&lt;dbl&gt;</th><th scope=col>&lt;dbl&gt;</th><th scope=col>&lt;dbl&gt;</th><th scope=col>&lt;dbl&gt;</th><th scope=col>&lt;dbl&gt;</th><th scope=col>&lt;dbl&gt;</th><th scope=col>&lt;chr&gt;</th></tr>\n",
       "</thead>\n",
       "<tbody>\n",
       "\t<tr><td>0</td><td>-3.9700485</td><td>-2.512336</td><td> 5.346330</td><td>-1.0120087</td><td>1.8449004</td><td> 0.32983980</td><td>-0.4915905</td><td>good</td></tr>\n",
       "\t<tr><td>1</td><td>-1.1952172</td><td>-2.839257</td><td> 3.664059</td><td> 1.5882323</td><td>0.8532858</td><td> 0.86753008</td><td>-0.7228094</td><td>good</td></tr>\n",
       "\t<tr><td>2</td><td>-0.2920239</td><td>-1.351282</td><td>-1.738429</td><td>-0.3426159</td><td>2.8386355</td><td>-0.03803333</td><td> 2.6216365</td><td>bad </td></tr>\n",
       "\t<tr><td>⋮</td><td>⋮</td><td>⋮</td><td>⋮</td><td>⋮</td><td>⋮</td><td>⋮</td><td>⋮</td><td>⋮</td></tr>\n",
       "\t<tr><td>3997</td><td>-2.6345153</td><td>-2.138247</td><td>-2.4404613</td><td> 0.6572229</td><td>2.199709</td><td> 4.7638592</td><td>-1.334611</td><td>bad </td></tr>\n",
       "\t<tr><td>3998</td><td>-4.0080037</td><td>-1.779337</td><td> 2.3663970</td><td>-0.2003294</td><td>2.161435</td><td> 0.2144884</td><td>-2.229720</td><td>good</td></tr>\n",
       "\t<tr><td>3999</td><td> 0.2785397</td><td>-1.715505</td><td> 0.1212173</td><td>-1.1540748</td><td>1.266677</td><td>-0.7765715</td><td> 1.599796</td><td>good</td></tr>\n",
       "</tbody>\n",
       "</table>\n"
      ],
      "text/latex": [
       "A tibble: 4000 × 9\n",
       "\\begin{tabular}{lllllllll}\n",
       " a\\_id & size & weight & sweetness & crunchiness & juiciness & ripeness & acidity & quality\\\\\n",
       " <dbl> & <dbl> & <dbl> & <dbl> & <dbl> & <dbl> & <dbl> & <dbl> & <chr>\\\\\n",
       "\\hline\n",
       "\t 0 & -3.9700485 & -2.512336 &  5.346330 & -1.0120087 & 1.8449004 &  0.32983980 & -0.4915905 & good\\\\\n",
       "\t 1 & -1.1952172 & -2.839257 &  3.664059 &  1.5882323 & 0.8532858 &  0.86753008 & -0.7228094 & good\\\\\n",
       "\t 2 & -0.2920239 & -1.351282 & -1.738429 & -0.3426159 & 2.8386355 & -0.03803333 &  2.6216365 & bad \\\\\n",
       "\t ⋮ & ⋮ & ⋮ & ⋮ & ⋮ & ⋮ & ⋮ & ⋮ & ⋮\\\\\n",
       "\t 3997 & -2.6345153 & -2.138247 & -2.4404613 &  0.6572229 & 2.199709 &  4.7638592 & -1.334611 & bad \\\\\n",
       "\t 3998 & -4.0080037 & -1.779337 &  2.3663970 & -0.2003294 & 2.161435 &  0.2144884 & -2.229720 & good\\\\\n",
       "\t 3999 &  0.2785397 & -1.715505 &  0.1212173 & -1.1540748 & 1.266677 & -0.7765715 &  1.599796 & good\\\\\n",
       "\\end{tabular}\n"
      ],
      "text/markdown": [
       "\n",
       "A tibble: 4000 × 9\n",
       "\n",
       "| a_id &lt;dbl&gt; | size &lt;dbl&gt; | weight &lt;dbl&gt; | sweetness &lt;dbl&gt; | crunchiness &lt;dbl&gt; | juiciness &lt;dbl&gt; | ripeness &lt;dbl&gt; | acidity &lt;dbl&gt; | quality &lt;chr&gt; |\n",
       "|---|---|---|---|---|---|---|---|---|\n",
       "| 0 | -3.9700485 | -2.512336 |  5.346330 | -1.0120087 | 1.8449004 |  0.32983980 | -0.4915905 | good |\n",
       "| 1 | -1.1952172 | -2.839257 |  3.664059 |  1.5882323 | 0.8532858 |  0.86753008 | -0.7228094 | good |\n",
       "| 2 | -0.2920239 | -1.351282 | -1.738429 | -0.3426159 | 2.8386355 | -0.03803333 |  2.6216365 | bad  |\n",
       "| ⋮ | ⋮ | ⋮ | ⋮ | ⋮ | ⋮ | ⋮ | ⋮ | ⋮ |\n",
       "| 3997 | -2.6345153 | -2.138247 | -2.4404613 |  0.6572229 | 2.199709 |  4.7638592 | -1.334611 | bad  |\n",
       "| 3998 | -4.0080037 | -1.779337 |  2.3663970 | -0.2003294 | 2.161435 |  0.2144884 | -2.229720 | good |\n",
       "| 3999 |  0.2785397 | -1.715505 |  0.1212173 | -1.1540748 | 1.266677 | -0.7765715 |  1.599796 | good |\n",
       "\n"
      ],
      "text/plain": [
       "     a_id size       weight    sweetness  crunchiness juiciness ripeness   \n",
       "1    0    -3.9700485 -2.512336  5.346330  -1.0120087  1.8449004  0.32983980\n",
       "2    1    -1.1952172 -2.839257  3.664059   1.5882323  0.8532858  0.86753008\n",
       "3    2    -0.2920239 -1.351282 -1.738429  -0.3426159  2.8386355 -0.03803333\n",
       "⋮    ⋮    ⋮          ⋮         ⋮          ⋮           ⋮         ⋮          \n",
       "3998 3997 -2.6345153 -2.138247 -2.4404613  0.6572229  2.199709   4.7638592 \n",
       "3999 3998 -4.0080037 -1.779337  2.3663970 -0.2003294  2.161435   0.2144884 \n",
       "4000 3999  0.2785397 -1.715505  0.1212173 -1.1540748  1.266677  -0.7765715 \n",
       "     acidity    quality\n",
       "1    -0.4915905 good   \n",
       "2    -0.7228094 good   \n",
       "3     2.6216365 bad    \n",
       "⋮    ⋮          ⋮      \n",
       "3998 -1.334611  bad    \n",
       "3999 -2.229720  good   \n",
       "4000  1.599796  good   "
      ]
     },
     "metadata": {},
     "output_type": "display_data"
    },
    {
     "name": "stdout",
     "output_type": "stream",
     "text": [
      "[1] \"Table 2: Apple dataset (tidy)\"\n"
     ]
    }
   ],
   "source": [
    "\n",
    "apple_manipulated <- apple |>\n",
    "    clean_names() |>\n",
    "    mutate(acidity = as.numeric(acidity))\n",
    "apple_manipulated\n",
    "print(\"Table 2: Apple dataset (tidy)\")"
   ]
  },
  {
   "cell_type": "code",
   "execution_count": 39,
   "id": "1d64cf97-15d9-478e-b07e-10e6f9cf180e",
   "metadata": {},
   "outputs": [
    {
     "data": {
      "text/html": [
       "<table class=\"dataframe\">\n",
       "<caption>A tibble: 4000 × 3</caption>\n",
       "<thead>\n",
       "\t<tr><th scope=col>ripeness</th><th scope=col>acidity</th><th scope=col>quality</th></tr>\n",
       "\t<tr><th scope=col>&lt;dbl&gt;</th><th scope=col>&lt;dbl&gt;</th><th scope=col>&lt;chr&gt;</th></tr>\n",
       "</thead>\n",
       "<tbody>\n",
       "\t<tr><td> 0.32983980</td><td>-0.4915905</td><td>good</td></tr>\n",
       "\t<tr><td> 0.86753008</td><td>-0.7228094</td><td>good</td></tr>\n",
       "\t<tr><td>-0.03803333</td><td> 2.6216365</td><td>bad </td></tr>\n",
       "\t<tr><td>⋮</td><td>⋮</td><td>⋮</td></tr>\n",
       "\t<tr><td> 4.7638592</td><td>-1.334611</td><td>bad </td></tr>\n",
       "\t<tr><td> 0.2144884</td><td>-2.229720</td><td>good</td></tr>\n",
       "\t<tr><td>-0.7765715</td><td> 1.599796</td><td>good</td></tr>\n",
       "</tbody>\n",
       "</table>\n"
      ],
      "text/latex": [
       "A tibble: 4000 × 3\n",
       "\\begin{tabular}{lll}\n",
       " ripeness & acidity & quality\\\\\n",
       " <dbl> & <dbl> & <chr>\\\\\n",
       "\\hline\n",
       "\t  0.32983980 & -0.4915905 & good\\\\\n",
       "\t  0.86753008 & -0.7228094 & good\\\\\n",
       "\t -0.03803333 &  2.6216365 & bad \\\\\n",
       "\t ⋮ & ⋮ & ⋮\\\\\n",
       "\t  4.7638592 & -1.334611 & bad \\\\\n",
       "\t  0.2144884 & -2.229720 & good\\\\\n",
       "\t -0.7765715 &  1.599796 & good\\\\\n",
       "\\end{tabular}\n"
      ],
      "text/markdown": [
       "\n",
       "A tibble: 4000 × 3\n",
       "\n",
       "| ripeness &lt;dbl&gt; | acidity &lt;dbl&gt; | quality &lt;chr&gt; |\n",
       "|---|---|---|\n",
       "|  0.32983980 | -0.4915905 | good |\n",
       "|  0.86753008 | -0.7228094 | good |\n",
       "| -0.03803333 |  2.6216365 | bad  |\n",
       "| ⋮ | ⋮ | ⋮ |\n",
       "|  4.7638592 | -1.334611 | bad  |\n",
       "|  0.2144884 | -2.229720 | good |\n",
       "| -0.7765715 |  1.599796 | good |\n",
       "\n"
      ],
      "text/plain": [
       "     ripeness    acidity    quality\n",
       "1     0.32983980 -0.4915905 good   \n",
       "2     0.86753008 -0.7228094 good   \n",
       "3    -0.03803333  2.6216365 bad    \n",
       "⋮    ⋮           ⋮          ⋮      \n",
       "3998  4.7638592  -1.334611  bad    \n",
       "3999  0.2144884  -2.229720  good   \n",
       "4000 -0.7765715   1.599796  good   "
      ]
     },
     "metadata": {},
     "output_type": "display_data"
    },
    {
     "name": "stdout",
     "output_type": "stream",
     "text": [
      "[1] \"Table 3: Apple select dataset\"\n"
     ]
    }
   ],
   "source": [
    "set.seed(4321)\n",
    "#We selected the values we would use for our data analysis, which only included Ripeness, Acidity, and Quality.\n",
    "#A random sample of 100 was taken because the data set was so large.\n",
    "apple_select <- apple_manipulated |>\n",
    "    select(ripeness, acidity, quality)\n",
    "apple_select\n",
    "print(\"Table 3: Apple select dataset\")"
   ]
  },
  {
   "cell_type": "markdown",
   "id": "6fb1e5b0-2878-4bd4-86fd-1e9e898b65b1",
   "metadata": {},
   "source": [
    "## Results"
   ]
  },
  {
   "cell_type": "code",
   "execution_count": null,
   "id": "11bd4b38-e65b-4137-b567-44fcb92313e1",
   "metadata": {},
   "outputs": [],
   "source": []
  },
  {
   "cell_type": "markdown",
   "id": "432c7df4-f70e-4954-b36e-d4ccfa341f79",
   "metadata": {},
   "source": [
    "# Disscusion\n",
    "summarize what you found\r\n",
    "discuss whether this is what you expected to find?\r\n",
    "discuss what impact could such findings have?\r\n",
    "discuss what future questions could this lead to?\r\n"
   ]
  },
  {
   "cell_type": "markdown",
   "id": "5cc67b27-3ea8-4904-94f4-07d6e08374ce",
   "metadata": {},
   "source": [
    "# Sources \n",
    "Elgiriyewithana, N. (2024, January 11). Apple Quality. <br> &nbsp;&nbsp;&nbsp;&nbsp;&nbsp;&nbsp;&nbsp;&nbsp;&nbsp;&nbsp;&nbsp\n",
    ";Kaggle.  https://www.kaggle.com/datasets/nelgiriyewithana/apple-quality/data \n",
    "    \n",
    "Farcuh, M. (2023). Fruit Harvest - Determining Apple Fruit Maturity and Optimal Harvest Date. Determining Apple Fruit Maturity and Optimal Harvest Date. \n",
    "\n",
    "    Musacchi, S., & Serra, S. (2018). Apple Fruit Quality: Overview on pre-harvest factors. Scientia Horticulturae, 234, 409–430. https://doi.org/10.1016/j.scienta.2017.12.057 "
   ]
  },
  {
   "cell_type": "code",
   "execution_count": null,
   "id": "ec64fcf1-557c-46e8-a351-cc846367ed32",
   "metadata": {},
   "outputs": [],
   "source": []
  }
 ],
 "metadata": {
  "kernelspec": {
   "display_name": "R",
   "language": "R",
   "name": "ir"
  },
  "language_info": {
   "codemirror_mode": "r",
   "file_extension": ".r",
   "mimetype": "text/x-r-source",
   "name": "R",
   "pygments_lexer": "r",
   "version": "4.3.1"
  }
 },
 "nbformat": 4,
 "nbformat_minor": 5
}
