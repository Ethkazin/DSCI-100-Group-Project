{
 "cells": [
  {
   "cell_type": "markdown",
   "id": "f05dd80b-e12b-4159-9cbd-268c5935d427",
   "metadata": {
    "editable": true,
    "slideshow": {
     "slide_type": ""
    },
    "tags": []
   },
   "source": [
    "# Understanding Apple Quality: A Prediction Based on Ripeness and Acidity\n",
    "### by Paul Bunuan, Nathan Ng, Tyler Tan, Junyi Yao"
   ]
  },
  {
   "cell_type": "markdown",
   "id": "a3d48962-ed86-4bed-b70f-2eb566119465",
   "metadata": {},
   "source": [
    "# Introduction\n",
    "    Apples are a common fruit consumed by people every day, with a variety of species being cultivated and harvested from farms across the world. In 2014, roughly 84 million tonnes of apples were produced (Musacchi & Serra, 2018). It is important for producers and sellers to maintain a quality standard for apples with regards to characteristics such as acidity, colour, shape, weight, and more. The values of these qualities will influence sales and the consumer’s chances of purchasing the product again. There are different ways manufacturers can measure the traits of apples. For instance, as apples ripen, they tend to become more alkaline with decreasing malic acid content, the primary acid found in apples. (Farcuh, 2018). However, the acidity is not used to track apple maturity because of the variation amongst species and differing optimal acid content for consumption (Farcuh, 2018). In our project, we aim to determine how the acidity and ripeness values of any given apple influences its overall quality status as “good” or “bad”; to answer this predictive question, we use a public dataset from Kaggle regarding apple quality (Elgiriyewithana, 2024). \r\n",
    "\n",
    "    \tThis dataset contains nine columns, which include Apple ID, Size, Weight, Sweetness, Crunchiness, Juiciness, Ripeness, Acidity, and Quality. However, for the purposes of this report, only the Ripeness, Acidity, and Quality columns will be used. It is hypothesized that apples with a higher Ripeness value and lower Acidity value are more likely to be characterized as “good” quality apples.\r\n"
   ]
  },
  {
   "cell_type": "markdown",
   "id": "6a2789fe-e37d-470f-8604-1dea0f280b2a",
   "metadata": {},
   "source": [
    "# Methods & Results"
   ]
  },
  {
   "cell_type": "markdown",
   "id": "432c7df4-f70e-4954-b36e-d4ccfa341f79",
   "metadata": {},
   "source": [
    "# Disscusion"
   ]
  },
  {
   "cell_type": "markdown",
   "id": "5cc67b27-3ea8-4904-94f4-07d6e08374ce",
   "metadata": {},
   "source": [
    "# Sources "
   ]
  },
  {
   "cell_type": "code",
   "execution_count": null,
   "id": "ec64fcf1-557c-46e8-a351-cc846367ed32",
   "metadata": {},
   "outputs": [],
   "source": []
  }
 ],
 "metadata": {
  "kernelspec": {
   "display_name": "R",
   "language": "R",
   "name": "ir"
  },
  "language_info": {
   "codemirror_mode": "r",
   "file_extension": ".r",
   "mimetype": "text/x-r-source",
   "name": "R",
   "pygments_lexer": "r",
   "version": "4.3.1"
  }
 },
 "nbformat": 4,
 "nbformat_minor": 5
}
