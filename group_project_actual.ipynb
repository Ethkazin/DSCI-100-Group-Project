{
 "cells": [
  {
   "cell_type": "markdown",
   "id": "46705884",
   "metadata": {},
   "source": [
    "# Understanding Apple Quality: A Prediction Based on Ripeness and Acidity\r\n"
   ]
  },
  {
   "cell_type": "markdown",
   "id": "d4d43932",
   "metadata": {},
   "source": [
    "# Introduction\n",
    "Apples are one of the most popular fruits being sold today in markets across the world. With hundreds of different types of apples being sold worldwide. With each apple sold, it has it’s own unique characteristics from its size to weight to juciness to acidity all of which play into if an apple is of good quality or not. \r\n",
    "\r\n",
    "   When researching, we wanted to create a predictive model that allowed us to predict whether an apple’s quality using selected variables that we believed had the potential to influence whether it would be rated as good or bad quality. \r\n",
    "\r\n",
    "   Using data classification, our goal to create a model to predict an Apple’s quality classification (good or bad) based on the variables of an apple’s acidity and ripeness values. All of the data used for this project has been retrieved from an Apple Quality data set from database repository: Kaggle. Full database can be found here: https://www.kaggle.com/datasets/nelgiriyewithana/apple-quality/data"
   ]
  },
  {
   "cell_type": "markdown",
   "id": "e32a255b",
   "metadata": {},
   "source": [
    "### Classification Question\r\n",
    "Predictive Question: How does the acidity and ripeness values of any given apple, influence it’s overall quality status (good or bad)? \r\n",
    "\r\n",
    "The dataset we had chosen is comprised of a variety of attributes of any given apple namely: size, weight, sweetness, crunchiness, juiciness, ripeness, acidity, and quality with quality being the only qualitative variable in the data set. To our knowledge, all observations have complete data with no “N/As” or blank. \r\n"
   ]
  },
  {
   "cell_type": "code",
   "execution_count": null,
   "id": "6dfa15a6",
   "metadata": {},
   "outputs": [],
   "source": []
  },
  {
   "cell_type": "code",
   "execution_count": null,
   "id": "8f562511",
   "metadata": {},
   "outputs": [],
   "source": []
  },
  {
   "cell_type": "markdown",
   "id": "7bd644bf",
   "metadata": {},
   "source": [
    "# Preliminary Exploratory Data Analysis"
   ]
  },
  {
   "cell_type": "code",
   "execution_count": 10,
   "id": "311423b8",
   "metadata": {},
   "outputs": [
    {
     "data": {
      "text/html": [
       "<table class=\"dataframe\">\n",
       "<caption>A tibble: 1000 × 4</caption>\n",
       "<thead>\n",
       "\t<tr><th scope=col>A_id</th><th scope=col>Acidity</th><th scope=col>Ripeness</th><th scope=col>Quality</th></tr>\n",
       "\t<tr><th scope=col>&lt;dbl&gt;</th><th scope=col>&lt;chr&gt;</th><th scope=col>&lt;dbl&gt;</th><th scope=col>&lt;chr&gt;</th></tr>\n",
       "</thead>\n",
       "<tbody>\n",
       "\t<tr><td>1266</td><td>0.01769468  </td><td> 3.9229588</td><td>bad </td></tr>\n",
       "\t<tr><td>3043</td><td>-2.569348843</td><td>-0.3253103</td><td>good</td></tr>\n",
       "\t<tr><td>1080</td><td>0.340346714 </td><td> 1.5491448</td><td>good</td></tr>\n",
       "\t<tr><td>⋮</td><td>⋮</td><td>⋮</td><td>⋮</td></tr>\n",
       "\t<tr><td> 90</td><td>-2.967415983</td><td> 1.041064</td><td>good</td></tr>\n",
       "\t<tr><td>290</td><td>4.04329901  </td><td>-2.201672</td><td>bad </td></tr>\n",
       "\t<tr><td>543</td><td>4.306460128 </td><td>-1.648863</td><td>bad </td></tr>\n",
       "</tbody>\n",
       "</table>\n"
      ],
      "text/latex": [
       "A tibble: 1000 × 4\n",
       "\\begin{tabular}{llll}\n",
       " A\\_id & Acidity & Ripeness & Quality\\\\\n",
       " <dbl> & <chr> & <dbl> & <chr>\\\\\n",
       "\\hline\n",
       "\t 1266 & 0.01769468   &  3.9229588 & bad \\\\\n",
       "\t 3043 & -2.569348843 & -0.3253103 & good\\\\\n",
       "\t 1080 & 0.340346714  &  1.5491448 & good\\\\\n",
       "\t ⋮ & ⋮ & ⋮ & ⋮\\\\\n",
       "\t  90 & -2.967415983 &  1.041064 & good\\\\\n",
       "\t 290 & 4.04329901   & -2.201672 & bad \\\\\n",
       "\t 543 & 4.306460128  & -1.648863 & bad \\\\\n",
       "\\end{tabular}\n"
      ],
      "text/markdown": [
       "\n",
       "A tibble: 1000 × 4\n",
       "\n",
       "| A_id &lt;dbl&gt; | Acidity &lt;chr&gt; | Ripeness &lt;dbl&gt; | Quality &lt;chr&gt; |\n",
       "|---|---|---|---|\n",
       "| 1266 | 0.01769468   |  3.9229588 | bad  |\n",
       "| 3043 | -2.569348843 | -0.3253103 | good |\n",
       "| 1080 | 0.340346714  |  1.5491448 | good |\n",
       "| ⋮ | ⋮ | ⋮ | ⋮ |\n",
       "|  90 | -2.967415983 |  1.041064 | good |\n",
       "| 290 | 4.04329901   | -2.201672 | bad  |\n",
       "| 543 | 4.306460128  | -1.648863 | bad  |\n",
       "\n"
      ],
      "text/plain": [
       "     A_id Acidity      Ripeness   Quality\n",
       "1    1266 0.01769468    3.9229588 bad    \n",
       "2    3043 -2.569348843 -0.3253103 good   \n",
       "3    1080 0.340346714   1.5491448 good   \n",
       "⋮    ⋮    ⋮            ⋮          ⋮      \n",
       "998   90  -2.967415983  1.041064  good   \n",
       "999  290  4.04329901   -2.201672  bad    \n",
       "1000 543  4.306460128  -1.648863  bad    "
      ]
     },
     "metadata": {},
     "output_type": "display_data"
    }
   ],
   "source": [
    "<<<<<<< LOCAL CELL DELETED >>>>>>>\n",
    "apples_select_1000 <- apples_data |>\n",
    "    select(A_id, Acidity, Ripeness, Quality) \n",
    "apples_select"
   ]
  }
 ],
 "metadata": {
  "kernelspec": {
   "display_name": "R",
   "language": "R",
   "name": "ir"
  },
  "language_info": {
   "codemirror_mode": "r",
   "file_extension": ".r",
   "mimetype": "text/x-r-source",
   "name": "R",
   "pygments_lexer": "r",
   "version": "4.3.1"
  }
 },
 "nbformat": 4,
 "nbformat_minor": 5
}
