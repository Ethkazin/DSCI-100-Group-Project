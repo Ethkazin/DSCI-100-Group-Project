{
 "cells": [
  {
   "cell_type": "code",
   "execution_count": null,
   "id": "bfe681bd-73de-4e46-b0d4-86adbe0b7b7a",
   "metadata": {},
   "outputs": [],
   "source": [
    "fjeifefiojfeffe"
   ]
  },
  {
   "cell_type": "code",
   "execution_count": null,
   "id": "63e9d8fd-53ae-42c2-953a-049865593dca",
   "metadata": {},
   "outputs": [],
   "source": [
    "666666666"
   ]
  }
 ],
 "metadata": {
  "kernelspec": {
   "display_name": "R",
   "language": "R",
   "name": "ir"
  },
  "language_info": {
   "codemirror_mode": "r",
   "file_extension": ".r",
   "mimetype": "text/x-r-source",
   "name": "R",
   "pygments_lexer": "r",
   "version": "4.3.1"
  }
 },
 "nbformat": 4,
 "nbformat_minor": 5
}
