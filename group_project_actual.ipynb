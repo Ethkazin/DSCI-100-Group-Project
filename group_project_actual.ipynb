{
 "cells": [
  {
   "cell_type": "markdown",
   "id": "cc3c9b70-cf46-42bd-be8b-e9418d20ab6d",
   "metadata": {},
   "source": [
    "# Understanding Apple Quality: A Prediction Based on Ripeness and Acidity\r\n"
   ]
  },
  {
   "cell_type": "markdown",
   "id": "08d6e3a4-810e-45a1-8c1d-b844ee7bae86",
   "metadata": {},
   "source": [
    "# Introduction\n",
    "Apples are one of the most popular fruits being sold today in markets across the world. With hundreds of different types of apples being sold worldwide. With each apple sold, it has it’s own unique characteristics from its size to weight to juciness to acidity all of which play into if an apple is of good quality or not. \r\n",
    "\r\n",
    "   When researching, we wanted to create a predictive model that allowed us to predict whether an apple’s quality using selected variables that we believed had the potential to influence whether it would be rated as good or bad quality. \r\n",
    "\r\n",
    "   Using data classification, our goal to create a model to predict an Apple’s quality classification (good or bad) based on the variables of an apple’s acidity and ripeness values. All of the data used for this project has been retrieved from an Apple Quality data set from database repository: Kaggle. Full database can be found here: https://www.kaggle.com/datasets/nelgiriyewithana/apple-quality/data"
   ]
  },
  {
   "cell_type": "markdown",
   "id": "aa24d5c3-bd4c-4bbc-8a24-84a88e52f4d0",
   "metadata": {},
   "source": [
    "### Classification Question\r\n",
    "Predictive Question: How does the acidity and ripeness values of any given apple, influence it’s overall quality status (good or bad)? \r\n",
    "\r\n",
    "The dataset we had chosen is comprised of a variety of attributes of any given apple namely: size, weight, sweetness, crunchiness, juiciness, ripeness, acidity, and quality with quality being the only qualitative variable in the data set. To our knowledge, all observations have complete data with no “N/As” or blank. \r\n"
   ]
  },
  {
   "cell_type": "code",
   "execution_count": null,
   "id": "235458c9-8320-4c71-9af1-8afe8a4a3553",
   "metadata": {},
   "outputs": [],
   "source": []
  },
  {
   "cell_type": "code",
   "execution_count": 2,
   "id": "a1147380-9f69-4250-9921-aa3ff68e44b1",
   "metadata": {},
   "outputs": [],
   "source": [
    "# iii"
   ]
  },
  {
   "cell_type": "markdown",
   "id": "30d411ce-cb42-4399-80f5-b2c1be11a7bb",
   "metadata": {},
   "source": [
    "# Preliminary Exploratory Data Analysis"
   ]
  },
  {
   "cell_type": "code",
   "execution_count": null,
   "id": "12b38970-4114-459e-829e-cd6eb2f0a543",
   "metadata": {},
   "outputs": [],
   "source": []
  },
  {
   "cell_type": "code",
   "execution_count": null,
   "id": "36431e5e-440f-4617-9683-db9ad5f6fc8c",
   "metadata": {},
   "outputs": [],
   "source": []
  },
  {
   "cell_type": "code",
   "execution_count": null,
   "id": "e12e30a7-c964-478c-aab9-ea55e00a1f03",
   "metadata": {},
   "outputs": [],
   "source": []
  },
  {
   "cell_type": "code",
   "execution_count": null,
   "id": "86b53dde-185c-4958-a693-580819916d84",
   "metadata": {},
   "outputs": [],
   "source": []
  },
  {
   "cell_type": "code",
   "execution_count": null,
   "id": "d3d79d6d-0848-4a99-88cc-f57796d6bf31",
   "metadata": {},
   "outputs": [],
   "source": []
  },
  {
   "cell_type": "code",
   "execution_count": null,
   "id": "f60e2619-9652-41fd-9d3b-8cf8443d2279",
   "metadata": {},
   "outputs": [],
   "source": []
  },
  {
   "cell_type": "code",
   "execution_count": null,
   "id": "721f5236-c705-4e5c-8cfa-61545c5fc835",
   "metadata": {},
   "outputs": [],
   "source": []
  },
  {
   "cell_type": "code",
   "execution_count": null,
   "id": "b6eec42e-2028-4553-9d13-bbdc3088838c",
   "metadata": {},
   "outputs": [],
   "source": []
  },
  {
   "cell_type": "code",
   "execution_count": null,
   "id": "bffc5070-c461-4a87-a3c7-2dd9fa05a5c0",
   "metadata": {},
   "outputs": [],
   "source": []
  }
 ],
 "metadata": {
  "kernelspec": {
   "display_name": "R",
   "language": "R",
   "name": "ir"
  },
  "language_info": {
   "codemirror_mode": "r",
   "file_extension": ".r",
   "mimetype": "text/x-r-source",
   "name": "R",
   "pygments_lexer": "r",
   "version": "4.3.1"
  }
 },
 "nbformat": 4,
 "nbformat_minor": 5
}
