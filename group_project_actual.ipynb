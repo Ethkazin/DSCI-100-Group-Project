{
 "cells": [
  {
   "cell_type": "markdown",
   "id": "cc3c9b70-cf46-42bd-be8b-e9418d20ab6d",
   "metadata": {},
   "source": [
    "# Understanding Apple Quality: A Prediction Based on Ripeness and Acidity\r\n"
   ]
  },
  {
   "cell_type": "markdown",
   "id": "08d6e3a4-810e-45a1-8c1d-b844ee7bae86",
   "metadata": {},
   "source": [
    "# Introduction\n",
    "Apples are one of the most popular fruits being sold today in markets across the world. With hundreds of different types of apples being sold worldwide. With each apple sold, it has it’s own unique characteristics from its size to weight to juciness to acidity all of which play into if an apple is of good quality or not. \r\n",
    "\r\n",
    "   When researching, we wanted to create a predictive model that allowed us to predict whether an apple’s quality using selected variables that we believed had the potential to influence whether it would be rated as good or bad quality. \r\n",
    "\r\n",
    "   Using data classification, our goal to create a model to predict an Apple’s quality classification (good or bad) based on the variables of an apple’s acidity and ripeness values. All of the data used for this project has been retrieved from an Apple Quality data set from database repository: Kaggle. Full database can be found here: https://www.kaggle.com/datasets/nelgiriyewithana/apple-quality/data"
   ]
  },
  {
   "cell_type": "markdown",
   "id": "aa24d5c3-bd4c-4bbc-8a24-84a88e52f4d0",
   "metadata": {
    "jp-MarkdownHeadingCollapsed": true
   },
   "source": [
    "### Classification Question\r\n",
    "Predictive Question: How does the acidity and ripeness values of any given apple, influence it’s overall quality status (good or bad)? \r\n",
    "\r\n",
    "The dataset we had chosen is comprised of a variety of attributes of any given apple namely: size, weight, sweetness, crunchiness, juiciness, ripeness, acidity, and quality with quality being the only qualitative variable in the data set. To our knowledge, all observations have complete data with no “N/As” or blank. \r\n"
   ]
  },
  {
   "cell_type": "code",
   "execution_count": null,
   "id": "235458c9-8320-4c71-9af1-8afe8a4a3553",
   "metadata": {},
   "outputs": [],
   "source": []
  },
  {
   "cell_type": "code",
   "execution_count": null,
   "id": "a1147380-9f69-4250-9921-aa3ff68e44b1",
   "metadata": {},
   "outputs": [],
   "source": []
  },
  {
   "cell_type": "markdown",
   "id": "30d411ce-cb42-4399-80f5-b2c1be11a7bb",
   "metadata": {},
   "source": [
    "# Preliminary Exploratory Data Analysis"
   ]
  },
  {
   "cell_type": "code",
   "execution_count": 1,
   "id": "12b38970-4114-459e-829e-cd6eb2f0a543",
   "metadata": {},
   "outputs": [
    {
     "name": "stderr",
     "output_type": "stream",
     "text": [
      "── \u001b[1mAttaching core tidyverse packages\u001b[22m ──────────────────────── tidyverse 2.0.0 ──\n",
      "\u001b[32m✔\u001b[39m \u001b[34mdplyr    \u001b[39m 1.1.3     \u001b[32m✔\u001b[39m \u001b[34mreadr    \u001b[39m 2.1.4\n",
      "\u001b[32m✔\u001b[39m \u001b[34mforcats  \u001b[39m 1.0.0     \u001b[32m✔\u001b[39m \u001b[34mstringr  \u001b[39m 1.5.0\n",
      "\u001b[32m✔\u001b[39m \u001b[34mggplot2  \u001b[39m 3.4.4     \u001b[32m✔\u001b[39m \u001b[34mtibble   \u001b[39m 3.2.1\n",
      "\u001b[32m✔\u001b[39m \u001b[34mlubridate\u001b[39m 1.9.3     \u001b[32m✔\u001b[39m \u001b[34mtidyr    \u001b[39m 1.3.0\n",
      "\u001b[32m✔\u001b[39m \u001b[34mpurrr    \u001b[39m 1.0.2     \n",
      "── \u001b[1mConflicts\u001b[22m ────────────────────────────────────────── tidyverse_conflicts() ──\n",
      "\u001b[31m✖\u001b[39m \u001b[34mdplyr\u001b[39m::\u001b[32mfilter()\u001b[39m masks \u001b[34mstats\u001b[39m::filter()\n",
      "\u001b[31m✖\u001b[39m \u001b[34mdplyr\u001b[39m::\u001b[32mlag()\u001b[39m    masks \u001b[34mstats\u001b[39m::lag()\n",
      "\u001b[36mℹ\u001b[39m Use the conflicted package (\u001b[3m\u001b[34m<http://conflicted.r-lib.org/>\u001b[39m\u001b[23m) to force all conflicts to become errors\n",
      "── \u001b[1mAttaching packages\u001b[22m ────────────────────────────────────── tidymodels 1.1.1 ──\n",
      "\n",
      "\u001b[32m✔\u001b[39m \u001b[34mbroom       \u001b[39m 1.0.5     \u001b[32m✔\u001b[39m \u001b[34mrsample     \u001b[39m 1.2.0\n",
      "\u001b[32m✔\u001b[39m \u001b[34mdials       \u001b[39m 1.2.0     \u001b[32m✔\u001b[39m \u001b[34mtune        \u001b[39m 1.1.2\n",
      "\u001b[32m✔\u001b[39m \u001b[34minfer       \u001b[39m 1.0.5     \u001b[32m✔\u001b[39m \u001b[34mworkflows   \u001b[39m 1.1.3\n",
      "\u001b[32m✔\u001b[39m \u001b[34mmodeldata   \u001b[39m 1.2.0     \u001b[32m✔\u001b[39m \u001b[34mworkflowsets\u001b[39m 1.0.1\n",
      "\u001b[32m✔\u001b[39m \u001b[34mparsnip     \u001b[39m 1.1.1     \u001b[32m✔\u001b[39m \u001b[34myardstick   \u001b[39m 1.2.0\n",
      "\u001b[32m✔\u001b[39m \u001b[34mrecipes     \u001b[39m 1.0.8     \n",
      "\n",
      "── \u001b[1mConflicts\u001b[22m ───────────────────────────────────────── tidymodels_conflicts() ──\n",
      "\u001b[31m✖\u001b[39m \u001b[34mscales\u001b[39m::\u001b[32mdiscard()\u001b[39m masks \u001b[34mpurrr\u001b[39m::discard()\n",
      "\u001b[31m✖\u001b[39m \u001b[34mdplyr\u001b[39m::\u001b[32mfilter()\u001b[39m   masks \u001b[34mstats\u001b[39m::filter()\n",
      "\u001b[31m✖\u001b[39m \u001b[34mrecipes\u001b[39m::\u001b[32mfixed()\u001b[39m  masks \u001b[34mstringr\u001b[39m::fixed()\n",
      "\u001b[31m✖\u001b[39m \u001b[34mdplyr\u001b[39m::\u001b[32mlag()\u001b[39m      masks \u001b[34mstats\u001b[39m::lag()\n",
      "\u001b[31m✖\u001b[39m \u001b[34myardstick\u001b[39m::\u001b[32mspec()\u001b[39m masks \u001b[34mreadr\u001b[39m::spec()\n",
      "\u001b[31m✖\u001b[39m \u001b[34mrecipes\u001b[39m::\u001b[32mstep()\u001b[39m   masks \u001b[34mstats\u001b[39m::step()\n",
      "\u001b[34m•\u001b[39m Use \u001b[32mtidymodels_prefer()\u001b[39m to resolve common conflicts.\n",
      "\n",
      "Warning message in file(filename, \"r\", encoding = encoding):\n",
      "“cannot open file 'tests.R': No such file or directory”\n"
     ]
    },
    {
     "ename": "ERROR",
     "evalue": "Error in file(filename, \"r\", encoding = encoding): cannot open the connection\n",
     "output_type": "error",
     "traceback": [
      "Error in file(filename, \"r\", encoding = encoding): cannot open the connection\nTraceback:\n",
      "1. source(\"tests.R\")",
      "2. file(filename, \"r\", encoding = encoding)"
     ]
    }
   ],
   "source": [
    "library(tidyverse)\n",
    "library(repr)\n",
    "library(tidymodels)\n",
    "options(repr.matrix.max.rows = 6)\n",
    "source('tests.R')\n",
    "source('cleanup.R')"
   ]
  },
  {
   "cell_type": "code",
   "execution_count": 4,
   "id": "36431e5e-440f-4617-9683-db9ad5f6fc8c",
   "metadata": {},
   "outputs": [
    {
     "name": "stderr",
     "output_type": "stream",
     "text": [
      "\u001b[1mRows: \u001b[22m\u001b[34m4001\u001b[39m \u001b[1mColumns: \u001b[22m\u001b[34m9\u001b[39m\n",
      "\u001b[36m──\u001b[39m \u001b[1mColumn specification\u001b[22m \u001b[36m────────────────────────────────────────────────────────\u001b[39m\n",
      "\u001b[1mDelimiter:\u001b[22m \",\"\n",
      "\u001b[31mchr\u001b[39m (2): Acidity, Quality\n",
      "\u001b[32mdbl\u001b[39m (7): A_id, Size, Weight, Sweetness, Crunchiness, Juiciness, Ripeness\n",
      "\n",
      "\u001b[36mℹ\u001b[39m Use `spec()` to retrieve the full column specification for this data.\n",
      "\u001b[36mℹ\u001b[39m Specify the column types or set `show_col_types = FALSE` to quiet this message.\n"
     ]
    },
    {
     "data": {
      "text/html": [
       "<table class=\"dataframe\">\n",
       "<caption>A tibble: 4000 × 9</caption>\n",
       "<thead>\n",
       "\t<tr><th scope=col>A_id</th><th scope=col>Size</th><th scope=col>Weight</th><th scope=col>Sweetness</th><th scope=col>Crunchiness</th><th scope=col>Juiciness</th><th scope=col>Ripeness</th><th scope=col>Acidity</th><th scope=col>Quality</th></tr>\n",
       "\t<tr><th scope=col>&lt;dbl&gt;</th><th scope=col>&lt;dbl&gt;</th><th scope=col>&lt;dbl&gt;</th><th scope=col>&lt;dbl&gt;</th><th scope=col>&lt;dbl&gt;</th><th scope=col>&lt;dbl&gt;</th><th scope=col>&lt;dbl&gt;</th><th scope=col>&lt;chr&gt;</th><th scope=col>&lt;chr&gt;</th></tr>\n",
       "</thead>\n",
       "<tbody>\n",
       "\t<tr><td>0</td><td>-3.9700485</td><td>-2.512336</td><td> 5.346330</td><td>-1.0120087</td><td>1.8449004</td><td> 0.32983980</td><td>-0.491590483</td><td>good</td></tr>\n",
       "\t<tr><td>1</td><td>-1.1952172</td><td>-2.839257</td><td> 3.664059</td><td> 1.5882323</td><td>0.8532858</td><td> 0.86753008</td><td>-0.722809367</td><td>good</td></tr>\n",
       "\t<tr><td>2</td><td>-0.2920239</td><td>-1.351282</td><td>-1.738429</td><td>-0.3426159</td><td>2.8386355</td><td>-0.03803333</td><td>2.621636473 </td><td>bad </td></tr>\n",
       "\t<tr><td>⋮</td><td>⋮</td><td>⋮</td><td>⋮</td><td>⋮</td><td>⋮</td><td>⋮</td><td>⋮</td><td>⋮</td></tr>\n",
       "\t<tr><td>3997</td><td>-2.6345153</td><td>-2.138247</td><td>-2.4404613</td><td> 0.6572229</td><td>2.199709</td><td> 4.7638592</td><td>-1.334611391</td><td>bad </td></tr>\n",
       "\t<tr><td>3998</td><td>-4.0080037</td><td>-1.779337</td><td> 2.3663970</td><td>-0.2003294</td><td>2.161435</td><td> 0.2144884</td><td>-2.229719806</td><td>good</td></tr>\n",
       "\t<tr><td>3999</td><td> 0.2785397</td><td>-1.715505</td><td> 0.1212173</td><td>-1.1540748</td><td>1.266677</td><td>-0.7765715</td><td>1.599796456 </td><td>good</td></tr>\n",
       "</tbody>\n",
       "</table>\n"
      ],
      "text/latex": [
       "A tibble: 4000 × 9\n",
       "\\begin{tabular}{lllllllll}\n",
       " A\\_id & Size & Weight & Sweetness & Crunchiness & Juiciness & Ripeness & Acidity & Quality\\\\\n",
       " <dbl> & <dbl> & <dbl> & <dbl> & <dbl> & <dbl> & <dbl> & <chr> & <chr>\\\\\n",
       "\\hline\n",
       "\t 0 & -3.9700485 & -2.512336 &  5.346330 & -1.0120087 & 1.8449004 &  0.32983980 & -0.491590483 & good\\\\\n",
       "\t 1 & -1.1952172 & -2.839257 &  3.664059 &  1.5882323 & 0.8532858 &  0.86753008 & -0.722809367 & good\\\\\n",
       "\t 2 & -0.2920239 & -1.351282 & -1.738429 & -0.3426159 & 2.8386355 & -0.03803333 & 2.621636473  & bad \\\\\n",
       "\t ⋮ & ⋮ & ⋮ & ⋮ & ⋮ & ⋮ & ⋮ & ⋮ & ⋮\\\\\n",
       "\t 3997 & -2.6345153 & -2.138247 & -2.4404613 &  0.6572229 & 2.199709 &  4.7638592 & -1.334611391 & bad \\\\\n",
       "\t 3998 & -4.0080037 & -1.779337 &  2.3663970 & -0.2003294 & 2.161435 &  0.2144884 & -2.229719806 & good\\\\\n",
       "\t 3999 &  0.2785397 & -1.715505 &  0.1212173 & -1.1540748 & 1.266677 & -0.7765715 & 1.599796456  & good\\\\\n",
       "\\end{tabular}\n"
      ],
      "text/markdown": [
       "\n",
       "A tibble: 4000 × 9\n",
       "\n",
       "| A_id &lt;dbl&gt; | Size &lt;dbl&gt; | Weight &lt;dbl&gt; | Sweetness &lt;dbl&gt; | Crunchiness &lt;dbl&gt; | Juiciness &lt;dbl&gt; | Ripeness &lt;dbl&gt; | Acidity &lt;chr&gt; | Quality &lt;chr&gt; |\n",
       "|---|---|---|---|---|---|---|---|---|\n",
       "| 0 | -3.9700485 | -2.512336 |  5.346330 | -1.0120087 | 1.8449004 |  0.32983980 | -0.491590483 | good |\n",
       "| 1 | -1.1952172 | -2.839257 |  3.664059 |  1.5882323 | 0.8532858 |  0.86753008 | -0.722809367 | good |\n",
       "| 2 | -0.2920239 | -1.351282 | -1.738429 | -0.3426159 | 2.8386355 | -0.03803333 | 2.621636473  | bad  |\n",
       "| ⋮ | ⋮ | ⋮ | ⋮ | ⋮ | ⋮ | ⋮ | ⋮ | ⋮ |\n",
       "| 3997 | -2.6345153 | -2.138247 | -2.4404613 |  0.6572229 | 2.199709 |  4.7638592 | -1.334611391 | bad  |\n",
       "| 3998 | -4.0080037 | -1.779337 |  2.3663970 | -0.2003294 | 2.161435 |  0.2144884 | -2.229719806 | good |\n",
       "| 3999 |  0.2785397 | -1.715505 |  0.1212173 | -1.1540748 | 1.266677 | -0.7765715 | 1.599796456  | good |\n",
       "\n"
      ],
      "text/plain": [
       "     A_id Size       Weight    Sweetness  Crunchiness Juiciness Ripeness   \n",
       "1    0    -3.9700485 -2.512336  5.346330  -1.0120087  1.8449004  0.32983980\n",
       "2    1    -1.1952172 -2.839257  3.664059   1.5882323  0.8532858  0.86753008\n",
       "3    2    -0.2920239 -1.351282 -1.738429  -0.3426159  2.8386355 -0.03803333\n",
       "⋮    ⋮    ⋮          ⋮         ⋮          ⋮           ⋮         ⋮          \n",
       "3998 3997 -2.6345153 -2.138247 -2.4404613  0.6572229  2.199709   4.7638592 \n",
       "3999 3998 -4.0080037 -1.779337  2.3663970 -0.2003294  2.161435   0.2144884 \n",
       "4000 3999  0.2785397 -1.715505  0.1212173 -1.1540748  1.266677  -0.7765715 \n",
       "     Acidity      Quality\n",
       "1    -0.491590483 good   \n",
       "2    -0.722809367 good   \n",
       "3    2.621636473  bad    \n",
       "⋮    ⋮            ⋮      \n",
       "3998 -1.334611391 bad    \n",
       "3999 -2.229719806 good   \n",
       "4000 1.599796456  good   "
      ]
     },
     "metadata": {},
     "output_type": "display_data"
    }
   ],
   "source": [
    "apples_data <- read_csv(\"data/apple_quality.csv\") |>\n",
    "    head(-1)\n",
    "apples_data"
   ]
  },
  {
   "cell_type": "code",
   "execution_count": 10,
   "id": "e12e30a7-c964-478c-aab9-ea55e00a1f03",
   "metadata": {},
   "outputs": [
    {
     "data": {
      "text/html": [
       "<table class=\"dataframe\">\n",
       "<caption>A tibble: 1000 × 4</caption>\n",
       "<thead>\n",
       "\t<tr><th scope=col>A_id</th><th scope=col>Acidity</th><th scope=col>Ripeness</th><th scope=col>Quality</th></tr>\n",
       "\t<tr><th scope=col>&lt;dbl&gt;</th><th scope=col>&lt;chr&gt;</th><th scope=col>&lt;dbl&gt;</th><th scope=col>&lt;chr&gt;</th></tr>\n",
       "</thead>\n",
       "<tbody>\n",
       "\t<tr><td>1266</td><td>0.01769468  </td><td> 3.9229588</td><td>bad </td></tr>\n",
       "\t<tr><td>3043</td><td>-2.569348843</td><td>-0.3253103</td><td>good</td></tr>\n",
       "\t<tr><td>1080</td><td>0.340346714 </td><td> 1.5491448</td><td>good</td></tr>\n",
       "\t<tr><td>⋮</td><td>⋮</td><td>⋮</td><td>⋮</td></tr>\n",
       "\t<tr><td> 90</td><td>-2.967415983</td><td> 1.041064</td><td>good</td></tr>\n",
       "\t<tr><td>290</td><td>4.04329901  </td><td>-2.201672</td><td>bad </td></tr>\n",
       "\t<tr><td>543</td><td>4.306460128 </td><td>-1.648863</td><td>bad </td></tr>\n",
       "</tbody>\n",
       "</table>\n"
      ],
      "text/latex": [
       "A tibble: 1000 × 4\n",
       "\\begin{tabular}{llll}\n",
       " A\\_id & Acidity & Ripeness & Quality\\\\\n",
       " <dbl> & <chr> & <dbl> & <chr>\\\\\n",
       "\\hline\n",
       "\t 1266 & 0.01769468   &  3.9229588 & bad \\\\\n",
       "\t 3043 & -2.569348843 & -0.3253103 & good\\\\\n",
       "\t 1080 & 0.340346714  &  1.5491448 & good\\\\\n",
       "\t ⋮ & ⋮ & ⋮ & ⋮\\\\\n",
       "\t  90 & -2.967415983 &  1.041064 & good\\\\\n",
       "\t 290 & 4.04329901   & -2.201672 & bad \\\\\n",
       "\t 543 & 4.306460128  & -1.648863 & bad \\\\\n",
       "\\end{tabular}\n"
      ],
      "text/markdown": [
       "\n",
       "A tibble: 1000 × 4\n",
       "\n",
       "| A_id &lt;dbl&gt; | Acidity &lt;chr&gt; | Ripeness &lt;dbl&gt; | Quality &lt;chr&gt; |\n",
       "|---|---|---|---|\n",
       "| 1266 | 0.01769468   |  3.9229588 | bad  |\n",
       "| 3043 | -2.569348843 | -0.3253103 | good |\n",
       "| 1080 | 0.340346714  |  1.5491448 | good |\n",
       "| ⋮ | ⋮ | ⋮ | ⋮ |\n",
       "|  90 | -2.967415983 |  1.041064 | good |\n",
       "| 290 | 4.04329901   | -2.201672 | bad  |\n",
       "| 543 | 4.306460128  | -1.648863 | bad  |\n",
       "\n"
      ],
      "text/plain": [
       "     A_id Acidity      Ripeness   Quality\n",
       "1    1266 0.01769468    3.9229588 bad    \n",
       "2    3043 -2.569348843 -0.3253103 good   \n",
       "3    1080 0.340346714   1.5491448 good   \n",
       "⋮    ⋮    ⋮            ⋮          ⋮      \n",
       "998   90  -2.967415983  1.041064  good   \n",
       "999  290  4.04329901   -2.201672  bad    \n",
       "1000 543  4.306460128  -1.648863  bad    "
      ]
     },
     "metadata": {},
     "output_type": "display_data"
    }
   ],
   "source": [
    "apples_select_1000 <- apples_data |>\n",
    "    select(A_id, Acidity, Ripeness, Quality) \n",
    "apples_select"
   ]
  },
  {
   "cell_type": "code",
   "execution_count": null,
   "id": "86b53dde-185c-4958-a693-580819916d84",
   "metadata": {},
   "outputs": [],
   "source": [
    "apples_split <- initial_split(apples_select, prop = 0.75, "
   ]
  },
  {
   "cell_type": "code",
   "execution_count": null,
   "id": "d3d79d6d-0848-4a99-88cc-f57796d6bf31",
   "metadata": {},
   "outputs": [],
   "source": []
  },
  {
   "cell_type": "code",
   "execution_count": null,
   "id": "f60e2619-9652-41fd-9d3b-8cf8443d2279",
   "metadata": {},
   "outputs": [],
   "source": []
  },
  {
   "cell_type": "code",
   "execution_count": null,
   "id": "721f5236-c705-4e5c-8cfa-61545c5fc835",
   "metadata": {},
   "outputs": [],
   "source": []
  },
  {
   "cell_type": "code",
   "execution_count": null,
   "id": "b6eec42e-2028-4553-9d13-bbdc3088838c",
   "metadata": {},
   "outputs": [],
   "source": []
  },
  {
   "cell_type": "code",
   "execution_count": null,
   "id": "bffc5070-c461-4a87-a3c7-2dd9fa05a5c0",
   "metadata": {},
   "outputs": [],
   "source": []
  }
 ],
 "metadata": {
  "kernelspec": {
   "display_name": "R",
   "language": "R",
   "name": "ir"
  },
  "language_info": {
   "codemirror_mode": "r",
   "file_extension": ".r",
   "mimetype": "text/x-r-source",
   "name": "R",
   "pygments_lexer": "r",
   "version": "4.3.1"
  }
 },
 "nbformat": 4,
 "nbformat_minor": 5
}
